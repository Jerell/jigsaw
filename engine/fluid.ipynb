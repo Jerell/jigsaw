{
 "cells": [
  {
   "cell_type": "code",
   "execution_count": 3,
   "metadata": {},
   "outputs": [
    {
     "data": {
      "text/plain": [
       "Main.Compositions"
      ]
     },
     "metadata": {},
     "output_type": "display_data"
    }
   ],
   "source": [
    "module Compositions\n",
    "\n",
    "compositions = (;\n",
    "    co2impure=\"REFPROP::CarbonDioxide[0.969696970]&Hydrogen[0.010101010]&Nitrogen[0.010101010]&Argon[0.009090909]&CarbonMonoxide[0.001010101]\",\n",
    "    co2pure=\"CarbonDioxide[1.0]\"\n",
    ")\n",
    "\n",
    "export compositions\n",
    "\n",
    "end"
   ]
  },
  {
   "cell_type": "code",
   "execution_count": 49,
   "metadata": {},
   "outputs": [
    {
     "data": {
      "text/latex": [
       "$$ \\begin{equation}\n",
       "\\left[\n",
       "\\begin{array}{c}\n",
       "t \\\\\n",
       "\\end{array}\n",
       "\\right]\n",
       "\\end{equation}\n",
       " $$"
      ],
      "text/plain": [
       "1-element Vector{Num}:\n",
       " t"
      ]
     },
     "metadata": {},
     "output_type": "display_data"
    }
   ],
   "source": [
    "using .Compositions\n",
    "using CoolProp\n",
    "using Unitful\n",
    "using ModelingToolkit\n",
    "using DifferentialEquations\n",
    "\n",
    "@variables t"
   ]
  },
  {
   "cell_type": "code",
   "execution_count": null,
   "metadata": {},
   "outputs": [],
   "source": [
    "println(compositions.co2impure)"
   ]
  },
  {
   "cell_type": "code",
   "execution_count": null,
   "metadata": {},
   "outputs": [],
   "source": [
    "function eos(composition::String, p, T) \n",
    "    p - ρ * T * 287.11\n",
    "end"
   ]
  },
  {
   "cell_type": "code",
   "execution_count": null,
   "metadata": {},
   "outputs": [],
   "source": [
    "eos(compositions.co2pure, 10u\"bar\", 293.15u\"K\")"
   ]
  },
  {
   "cell_type": "code",
   "execution_count": 52,
   "metadata": {},
   "outputs": [
    {
     "data": {
      "text/plain": [
       "FlowPort"
      ]
     },
     "metadata": {},
     "output_type": "display_data"
    }
   ],
   "source": [
    "\n",
    "\n",
    "\"\"\"\n",
    "\n",
    "State Equation of Dry Air\n",
    "\"\"\"\n",
    "stateEquation(p, ρ, T) = p - ρ * T * 287.11\n",
    "@register_symbolic stateEquation(p, ρ, T) #状态方程\n",
    "\n",
    "\n",
    "\"\"\"\n",
    "\n",
    "Port(inlet or outlet) in CompressedAirSystem.\n",
    "\n",
    "# States:\n",
    "- `p(t)`: [`Pa`] The pressure at this port\n",
    "- `qm(t)`: [`kg/s`] The mass flow rate passing through this port\n",
    "- `T(t)`: [`K`] The mass flow rate passing through this port\n",
    "- `ρ(t)`: [`kg/m³`] The density passing at this port\n",
    "- `μ(t)`: [`Pa⋅s`] The absolute viscosity at this port\n",
    "- `qv(t)`: [`m³/s`] The volume  flow rate passing through this port\n",
    "\n",
    "\"\"\"\n",
    "@connector function FlowPort(; name)\n",
    "    sts = @variables begin\n",
    "        p(t) = 1.013e5\n",
    "        T(t) = 300\n",
    "        (qm(t)=0, [connect = Flow])\n",
    "        (ρ(t)=1.2, [connect = Stream])\n",
    "        (μ(t)=1.819e-5, [connect = Stream])\n",
    "        (qv(t)=0, [connect = Stream])\n",
    "    end\n",
    "    eqs = [\n",
    "        0 ~ stateEquation(p, ρ, T)\n",
    "        μ ~ 1.819e-5\n",
    "        qv ~ qm / ρ\n",
    "    ]\n",
    "    ODESystem(eqs, t, sts, []; name=name)\n",
    "end"
   ]
  },
  {
   "cell_type": "code",
   "execution_count": 49,
   "metadata": {},
   "outputs": [
    {
     "data": {
      "text/plain": [
       "FluidFlowPort (generic function with 1 method)"
      ]
     },
     "metadata": {},
     "output_type": "display_data"
    }
   ],
   "source": [
    "@connector function FluidFlowPort(composition::String ; name)\n",
    "    sts = @variables begin\n",
    "        p(t) = 1.013e5\n",
    "        T(t) = 300\n",
    "        (qm(t)=0, [connect = Flow])\n",
    "        (ρ(t)= PropsSI(\"D\", \"P\", p, \"T\", T, composition), [connect = Stream])\n",
    "        (μ(t)= PropsSI(\"V\", \"P\", p, \"T\", T, composition), [connect = Stream])\n",
    "        (qv(t)=0, [connect = Stream])\n",
    "    end\n",
    "    eqs = [\n",
    "        0 ~ stateEquation(p, ρ, T)\n",
    "        μ ~ 1.819e-5\n",
    "        qv ~ qm / ρ\n",
    "    ]\n",
    "    ODESystem(eqs, t, sts, []; name=name)\n",
    "end"
   ]
  },
  {
   "cell_type": "code",
   "execution_count": 53,
   "metadata": {},
   "outputs": [
    {
     "name": "stderr",
     "output_type": "stream",
     "text": [
      "┌ Warning: ffp contains 1 flow variables, yet 2 regular (non-flow, non-stream, non-input, non-output) variables. This could lead to imbalanced model that are difficult to debug. Consider marking some of the regular variables as input/output variables.\n",
      "└ @ ModelingToolkit /Users/jerell/.julia/packages/ModelingToolkit/hBVcX/src/systems/connectors.jl:40\n"
     ]
    },
    {
     "data": {
      "text/latex": [
       "$$ \\begin{align}\n",
       "0 =& \\mathrm{stateEquation}\\left( p\\left( t \\right), \\rho\\left( t \\right), T\\left( t \\right) \\right) \\\\\n",
       "\\mu\\left( t \\right) =& 1.819 \\cdot 10^{-5} \\\\\n",
       "\\mathrm{qv}\\left( t \\right) =& \\frac{\\mathrm{qm}\\left( t \\right)}{\\rho\\left( t \\right)}\n",
       "\\end{align}\n",
       " $$"
      ],
      "text/plain": [
       "\u001b[0m\u001b[1mModel ffp with 3 \u001b[22m\u001b[0m\u001b[1m(\u001b[22m\u001b[35m\u001b[1m9\u001b[22m\u001b[39m\u001b[0m\u001b[1m) \u001b[22m\u001b[0m\u001b[1mequations\u001b[22m\n",
       "\u001b[0m\u001b[1mStates (6):\u001b[22m\n",
       "  p(t) [defaults to 101300.0]\n",
       "  T(t) [defaults to 300]\n",
       "  qm(t) [defaults to 0]\n",
       "  ρ(t) [defaults to PropsSI(D, P, p(t), T, T(t), CarbonDioxide[1.0])]\n",
       "⋮\n",
       "\u001b[0m\u001b[1mParameters (0):\u001b[22m"
      ]
     },
     "metadata": {},
     "output_type": "display_data"
    }
   ],
   "source": [
    "@variables t\n",
    "@named ffp = FluidFlowPort(compositions.co2pure)"
   ]
  },
  {
   "cell_type": "code",
   "execution_count": null,
   "metadata": {},
   "outputs": [],
   "source": [
    "@named model = compose(ODESystem(eqs, t, name=:funs), components)\n",
    "\n",
    "sys = structural_simplify(model)"
   ]
  },
  {
   "cell_type": "markdown",
   "metadata": {},
   "source": [
    "# next section"
   ]
  },
  {
   "cell_type": "code",
   "execution_count": 72,
   "metadata": {},
   "outputs": [
    {
     "data": {
      "text/plain": [
       "FP (generic function with 1 method)"
      ]
     },
     "metadata": {},
     "output_type": "display_data"
    }
   ],
   "source": [
    "\n",
    "@register_symbolic CoolProp.:PropsSI(out::AbstractString, name1::AbstractString, value1::Real, name2::AbstractString, value2::Real, fluid::AbstractString)\n",
    "\n",
    "\n",
    "const gn = Unitful.gn.val\n",
    "\n",
    "function _NodeEnergy(node, D, ρ)\n",
    "    return node.p / (ρ * gn) + node.z + 8 * abs2(node.q) / (π^2 * D^4 * gn)\n",
    "end\n",
    "\n",
    "\"\"\"\n",
    "To get the loss of resistance along the pipe(between two ports).\n",
    "\n",
    "In volume flow form:\n",
    "\n",
    "```math\n",
    "h_f = f\\\\frac{L}{D} \\\\frac{8q^{2}}{\\\\pi^2D^4g}\n",
    "```\n",
    "\n",
    "\"\"\"\n",
    "function _h_f(node, f, L, D)\n",
    "    return f * L * 8 / (D^5 * π^2 * gn) * node.q * abs(node.q)\n",
    "end\n",
    "\n",
    "\n",
    "\"\"\"\n",
    "To get the local resistance loss the components.\n",
    "\n",
    "In volume flow form:\n",
    "\n",
    "```math\n",
    "h_m = K \\\\frac{8q^{2}}{\\\\pi^2D^4g}\n",
    "```\n",
    "\n",
    "\"\"\"\n",
    "function _h_m(node, K, D)\n",
    "    return K * 8 / (D^4 * π^2 * gn) * node.q * abs(node.q)\n",
    "end\n",
    "\n",
    "function Sink_P(; name, p=101325)\n",
    "    @named port = PipeNode2(z=0.0)\n",
    "    eqs = [\n",
    "        port.p ~ p\n",
    "    ]\n",
    "    compose(ODESystem(eqs, t, [], [], name=name), port)\n",
    "end\n",
    "\n",
    "function FP(; name, P=1.013e5, Tm=300, L=10.0, D=1.0, f=0.01, K_inside=0.0)\n",
    "    @named in = PipeNode2()\n",
    "    @named out = PipeNode2()\n",
    "    ps = @parameters L=L D=D f=f K_inside=K_inside u=20\n",
    "    @variables begin\n",
    "        Aₛ\n",
    "        p = P\n",
    "        tm(t) = Tm\n",
    "        ρ\n",
    "    end\n",
    "    eqs = [\n",
    "        Aₛ ~ π * D * L,\n",
    "        ρ ~ PropsSI(\"D\", \"P\", p, \"T\", Tm, compositions.co2pure),\n",
    "        p ~ P,\n",
    "        _NodeEnergy(in, D, ρ) ~ _NodeEnergy(out, D, ρ) + _h_f(in, f, L, D) + _h_m(in, K_inside, D) + u * Aₛ,\n",
    "        0 ~ in.q + out.q\n",
    "        ]\n",
    "    \n",
    "    ODESystem(eqs, t, [], ps; name=name)\n",
    "    compose(ODESystem(eqs, t, [], ps, name=name), in, out)\n",
    "end"
   ]
  },
  {
   "cell_type": "code",
   "execution_count": 73,
   "metadata": {},
   "outputs": [
    {
     "data": {
      "text/latex": [
       "$$ \\begin{align}\n",
       "A_s =& 3.1416 D L \\\\\n",
       "\\rho =& \\mathrm{PropsSI}\\left( D, P, p, T, 300, CarbonDioxide[1.0] \\right) \\\\\n",
       "p =& 1.013 \\cdot 10^{5} \\\\\n",
       "in_{+}z + \\frac{8 \\left|in_{+}q\\left( t \\right)\\right|^{2}}{96.788 D^{4}} + \\frac{in_{+}p\\left( t \\right)}{9.8066 \\rho} =& out_{+}z + A_s u + \\frac{8 \\left|out_{+}q\\left( t \\right)\\right|^{2}}{96.788 D^{4}} + \\frac{8 K_{inside} in_{+}q\\left( t \\right) \\left|in_{+}q\\left( t \\right)\\right|}{96.788 D^{4}} + \\frac{8 L f in_{+}q\\left( t \\right) \\left|in_{+}q\\left( t \\right)\\right|}{96.788 D^{5}} + \\frac{out_{+}p\\left( t \\right)}{9.8066 \\rho} \\\\\n",
       "0 =& in_{+}q\\left( t \\right) + out_{+}q\\left( t \\right)\n",
       "\\end{align}\n",
       " $$"
      ],
      "text/plain": [
       "\u001b[0m\u001b[1mModel test with 5 \u001b[22m\u001b[0m\u001b[1m(\u001b[22m\u001b[35m\u001b[1m7\u001b[22m\u001b[39m\u001b[0m\u001b[1m) \u001b[22m\u001b[0m\u001b[1mequations\u001b[22m\n",
       "\u001b[0m\u001b[1mStates (4):\u001b[22m\n",
       "  in₊p(t) [defaults to 1.0]\n",
       "  in₊q(t) [defaults to 1.0]\n",
       "  out₊p(t) [defaults to 1.0]\n",
       "  out₊q(t) [defaults to 1.0]\n",
       "\u001b[0m\u001b[1mParameters (7):\u001b[22m\n",
       "  L [defaults to 10.0]\n",
       "  D [defaults to 1.0]\n",
       "  f [defaults to 0.01]\n",
       "  K_inside [defaults to 0.0]\n",
       "⋮"
      ]
     },
     "metadata": {},
     "output_type": "display_data"
    }
   ],
   "source": [
    "@named test = FP()"
   ]
  },
  {
   "cell_type": "code",
   "execution_count": 58,
   "metadata": {},
   "outputs": [
    {
     "data": {
      "text/latex": [
       "$$ \\begin{align}\n",
       "port_{+}p\\left( t \\right) =& 100000\n",
       "\\end{align}\n",
       " $$"
      ],
      "text/plain": [
       "\u001b[0m\u001b[1mModel low with 1 \u001b[22m\u001b[0m\u001b[1m(\u001b[22m\u001b[35m\u001b[1m2\u001b[22m\u001b[39m\u001b[0m\u001b[1m) \u001b[22m\u001b[0m\u001b[1mequations\u001b[22m\n",
       "\u001b[0m\u001b[1mStates (2):\u001b[22m\n",
       "  port₊p(t) [defaults to 1.0]\n",
       "  port₊q(t) [defaults to 1.0]\n",
       "\u001b[0m\u001b[1mParameters (1):\u001b[22m\n",
       "  port₊z [defaults to 0.0]"
      ]
     },
     "metadata": {},
     "output_type": "display_data"
    }
   ],
   "source": [
    "@named low = Sink_P(p=100000)"
   ]
  },
  {
   "cell_type": "code",
   "execution_count": 67,
   "metadata": {},
   "outputs": [
    {
     "data": {
      "text/latex": [
       "$$ \\begin{equation}\n",
       "\\left[\n",
       "\\begin{array}{c}\n",
       "\\mathrm{connect}\\left( test_{+}out, low_{+}port \\right) \\\\\n",
       "\\end{array}\n",
       "\\right]\n",
       "\\end{equation}\n",
       " $$"
      ],
      "text/plain": [
       "1-element Vector{Equation}:\n",
       " connect(test.out, low.port)"
      ]
     },
     "metadata": {},
     "output_type": "display_data"
    }
   ],
   "source": [
    "eqs = [connect(test.out, low.port)]"
   ]
  },
  {
   "cell_type": "code",
   "execution_count": 74,
   "metadata": {},
   "outputs": [
    {
     "data": {
      "text/latex": [
       "$$ \\begin{equation}\n",
       "\\left[\n",
       "\\begin{array}{c}\n",
       "\\mathrm{connect}\\left( test_{+}out, low_{+}port \\right) \\\\\n",
       "test_{+}A_s = 3.1416 test_{+}D test_{+}L \\\\\n",
       "test_+\\rho = \\mathrm{PropsSI}\\left( D, P, test_{+}p, T, 300, CarbonDioxide[1.0] \\right) \\\\\n",
       "test_{+}p = 1.013 \\cdot 10^{5} \\\\\n",
       "test_{+}in_{+}z + \\frac{8 \\left|test_{+}in_{+}q\\left( t \\right)\\right|^{2}}{96.788 test_{+}D^{4}} + \\frac{test_{+}in_{+}p\\left( t \\right)}{9.8066 test_+\\rho} = test_{+}out_{+}z + test_{+}A_s test_{+}u + \\frac{8 \\left|test_{+}out_{+}q\\left( t \\right)\\right|^{2}}{96.788 test_{+}D^{4}} + \\frac{8 test_{+}K_{inside} test_{+}in_{+}q\\left( t \\right) \\left|test_{+}in_{+}q\\left( t \\right)\\right|}{96.788 test_{+}D^{4}} + \\frac{8 test_{+}L test_{+}f test_{+}in_{+}q\\left( t \\right) \\left|test_{+}in_{+}q\\left( t \\right)\\right|}{96.788 test_{+}D^{5}} + \\frac{test_{+}out_{+}p\\left( t \\right)}{9.8066 test_+\\rho} \\\\\n",
       "0 = test_{+}in_{+}q\\left( t \\right) + test_{+}out_{+}q\\left( t \\right) \\\\\n",
       "low_{+}port_{+}p\\left( t \\right) = 100000 \\\\\n",
       "\\end{array}\n",
       "\\right]\n",
       "\\end{equation}\n",
       " $$"
      ],
      "text/plain": [
       "\u001b[0m\u001b[1mModel model with 6 \u001b[22m\u001b[0m\u001b[1m(\u001b[22m\u001b[35m\u001b[1m9\u001b[22m\u001b[39m\u001b[0m\u001b[1m) \u001b[22m\u001b[0m\u001b[1mequations\u001b[22m\n",
       "\u001b[0m\u001b[1mStates (6):\u001b[22m\n",
       "  test₊in₊p(t) [defaults to 1.0]\n",
       "  test₊in₊q(t) [defaults to 1.0]\n",
       "  test₊out₊p(t) [defaults to 1.0]\n",
       "  test₊out₊q(t) [defaults to 1.0]\n",
       "⋮\n",
       "\u001b[0m\u001b[1mParameters (8):\u001b[22m\n",
       "  test₊L [defaults to 10.0]\n",
       "  test₊D [defaults to 1.0]\n",
       "  test₊f [defaults to 0.01]\n",
       "  test₊K_inside [defaults to 0.0]\n",
       "⋮"
      ]
     },
     "metadata": {},
     "output_type": "display_data"
    }
   ],
   "source": [
    "@named model = compose(ODESystem(eqs, t, name=:funs), [test, low])\n"
   ]
  },
  {
   "cell_type": "code",
   "execution_count": 75,
   "metadata": {},
   "outputs": [
    {
     "data": {
      "text/plain": [
       "retcode: Success\n",
       "Interpolation: specialized 4rd order \"free\" stiffness-aware interpolation\n",
       "t: 1-element Vector{Float64}:\n",
       " 0.0\n",
       "u: 1-element Vector{Vector{Float64}}:\n",
       " [111067.5874933406]"
      ]
     },
     "metadata": {},
     "output_type": "display_data"
    }
   ],
   "source": [
    "sys = structural_simplify(model)\n",
    "prob = ODEProblem(sys, [], (0.0, 0.0))\n",
    "sol = ModelingToolkit.:solve(prob)"
   ]
  },
  {
   "cell_type": "code",
   "execution_count": 76,
   "metadata": {},
   "outputs": [
    {
     "data": {
      "text/plain": [
       "1-element Vector{Float64}:\n",
       " 100000.0"
      ]
     },
     "metadata": {},
     "output_type": "display_data"
    }
   ],
   "source": [
    "sol[test.out.p]"
   ]
  },
  {
   "cell_type": "code",
   "execution_count": 11,
   "metadata": {},
   "outputs": [
    {
     "data": {
      "text/plain": [
       "PipeNode2 (generic function with 1 method)"
      ]
     },
     "metadata": {},
     "output_type": "display_data"
    }
   ],
   "source": [
    "@connector function PipeNode2(; name, z=0)\n",
    "    sts = @variables begin\n",
    "        p(t) = 1.0\n",
    "        (q(t)=1.0, [connect = Flow])\n",
    "    end\n",
    "    ps = @parameters z = z\n",
    "    ODESystem(Equation[], t, sts, ps; name=name)\n",
    "end"
   ]
  },
  {
   "cell_type": "code",
   "execution_count": null,
   "metadata": {},
   "outputs": [],
   "source": []
  }
 ],
 "metadata": {
  "kernelspec": {
   "display_name": "Julia 1.9.3",
   "language": "julia",
   "name": "julia-1.9"
  },
  "language_info": {
   "file_extension": ".jl",
   "mimetype": "application/julia",
   "name": "julia",
   "version": "1.9.3"
  },
  "orig_nbformat": 4
 },
 "nbformat": 4,
 "nbformat_minor": 2
}
