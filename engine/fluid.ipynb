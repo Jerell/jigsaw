{
 "cells": [
  {
   "cell_type": "code",
   "execution_count": 1,
   "metadata": {},
   "outputs": [
    {
     "data": {
      "text/plain": [
       "Main.Compositions"
      ]
     },
     "metadata": {},
     "output_type": "display_data"
    }
   ],
   "source": [
    "module Compositions\n",
    "\n",
    "compositions = (;\n",
    "    co2impure=\"REFPROP::CarbonDioxide[0.969696970]&Hydrogen[0.010101010]&Nitrogen[0.010101010]&Argon[0.009090909]&CarbonMonoxide[0.001010101]\",\n",
    "    co2pure=\"CarbonDioxide[1.0]\"\n",
    ")\n",
    "\n",
    "export compositions\n",
    "\n",
    "end"
   ]
  },
  {
   "cell_type": "code",
   "execution_count": 2,
   "metadata": {},
   "outputs": [
    {
     "data": {
      "text/latex": [
       "$$ \\begin{equation}\n",
       "\\left[\n",
       "\\begin{array}{c}\n",
       "t \\\\\n",
       "\\end{array}\n",
       "\\right]\n",
       "\\end{equation}\n",
       " $$"
      ],
      "text/plain": [
       "1-element Vector{Num}:\n",
       " t"
      ]
     },
     "metadata": {},
     "output_type": "display_data"
    }
   ],
   "source": [
    "using .Compositions, CoolProp, DifferentialEquations, ModelingToolkit, Unitful\n",
    "\n",
    "@variables t"
   ]
  },
  {
   "cell_type": "markdown",
   "metadata": {},
   "source": [
    "# next section"
   ]
  },
  {
   "cell_type": "code",
   "execution_count": 3,
   "metadata": {},
   "outputs": [
    {
     "data": {
      "text/plain": [
       "Pipe (generic function with 1 method)"
      ]
     },
     "metadata": {},
     "output_type": "display_data"
    }
   ],
   "source": [
    "\n",
    "@register_symbolic CoolProp.:PropsSI(out::AbstractString, name1::AbstractString, value1::Real, name2::AbstractString, value2::Real, fluid::AbstractString)\n",
    "\n",
    "\n",
    "const gn = Unitful.gn.val\n",
    "\n",
    "function _NodeEnergy(node, D, ρ)\n",
    "    return node.p / (ρ * gn) + node.z + 8 * abs2(node.q) / (π^2 * D^4 * gn)\n",
    "end\n",
    "\n",
    "\"\"\"\n",
    "To get the loss of resistance along the pipe(between two ports).\n",
    "\n",
    "In volume flow form:\n",
    "\n",
    "```math\n",
    "h_f = f\\\\frac{L}{D} \\\\frac{8q^{2}}{\\\\pi^2D^4g}\n",
    "```\n",
    "\n",
    "\"\"\"\n",
    "function _h_f(node, f, L, D)\n",
    "    return f * L * 8 / (D^5 * π^2 * gn) * node.q * abs(node.q)\n",
    "end\n",
    "\n",
    "\n",
    "\"\"\"\n",
    "To get the local resistance loss the components.\n",
    "\n",
    "In volume flow form:\n",
    "\n",
    "```math\n",
    "h_m = K \\\\frac{8q^{2}}{\\\\pi^2D^4g}\n",
    "```\n",
    "\n",
    "\"\"\"\n",
    "function _h_m(node, K, D)\n",
    "    return K * 8 / (D^4 * π^2 * gn) * node.q * abs(node.q)\n",
    "end\n",
    "\n",
    "function Sink_P(; name, p=101325)\n",
    "    @named port = PipeNode2(z=0.0)\n",
    "    eqs = [\n",
    "        port.p ~ p\n",
    "    ]\n",
    "    compose(ODESystem(eqs, t, [], [], name=name), port)\n",
    "end\n",
    "\n",
    "@connector function PipeNode2(; name, z=0)\n",
    "    sts = @variables begin\n",
    "        p(t) = 1.0\n",
    "        (q(t)=1.0, [connect = Flow])\n",
    "    end\n",
    "    ps = @parameters z = z\n",
    "    ODESystem(Equation[], t, sts, ps; name=name)\n",
    "end\n",
    "\n",
    "function Pipe(; name, P=1.013e5, Tm=300, L=10.0, D=1.0, f=0.01, K_inside=0.0)\n",
    "    @named in = PipeNode2()\n",
    "    @named out = PipeNode2()\n",
    "    ps = @parameters L=L D=D f=f K_inside=K_inside u=20\n",
    "    # @variables t x(t) y(t) z(t)\n",
    "    @variables begin\n",
    "        (qm=0, [connect = Flow])\n",
    "        # (qv=0, [connect = Stream])\n",
    "        Aₛ\n",
    "        p = P\n",
    "        tm(t) = Tm\n",
    "        ρ\n",
    "        μ\n",
    "    end\n",
    "    eqs = [\n",
    "        Aₛ ~ π * D * L,\n",
    "        ρ ~ PropsSI(\"D\", \"P\", p, \"T\", Tm, compositions.co2pure),\n",
    "        p ~ P,\n",
    "        μ ~ PropsSI(\"V\", \"P\", p, \"T\", Tm, compositions.co2pure),\n",
    "        # qv ~ qm / ρ,\n",
    "        _NodeEnergy(in, D, ρ) ~ _NodeEnergy(out, D, ρ) + _h_f(in, f, L, D) + _h_m(in, K_inside, D) + u * Aₛ,\n",
    "        0 ~ in.q + out.q\n",
    "        ]\n",
    "    \n",
    "    ODESystem(eqs, t, [], ps; name=name)\n",
    "    compose(ODESystem(eqs, t, [], ps, name=name), in, out)\n",
    "end"
   ]
  },
  {
   "cell_type": "code",
   "execution_count": 4,
   "metadata": {},
   "outputs": [
    {
     "data": {
      "text/latex": [
       "$$ \\begin{align}\n",
       "A_s =& 3.1416 D L \\\\\n",
       "\\rho =& \\mathrm{PropsSI}\\left( D, P, p, T, 300, CarbonDioxide[1.0] \\right) \\\\\n",
       "p =& 1.013 \\cdot 10^{5} \\\\\n",
       "\\mu =& \\mathrm{PropsSI}\\left( V, P, p, T, 300, CarbonDioxide[1.0] \\right) \\\\\n",
       "in_{+}z + \\frac{8 \\left|in_{+}q\\left( t \\right)\\right|^{2}}{96.788 D^{4}} + \\frac{in_{+}p\\left( t \\right)}{9.8066 \\rho} =& out_{+}z + A_s u + \\frac{8 \\left|out_{+}q\\left( t \\right)\\right|^{2}}{96.788 D^{4}} + \\frac{8 K_{inside} in_{+}q\\left( t \\right) \\left|in_{+}q\\left( t \\right)\\right|}{96.788 D^{4}} + \\frac{8 L f in_{+}q\\left( t \\right) \\left|in_{+}q\\left( t \\right)\\right|}{96.788 D^{5}} + \\frac{out_{+}p\\left( t \\right)}{9.8066 \\rho} \\\\\n",
       "0 =& in_{+}q\\left( t \\right) + out_{+}q\\left( t \\right)\n",
       "\\end{align}\n",
       " $$"
      ],
      "text/plain": [
       "\u001b[0m\u001b[1mModel test with 6 \u001b[22m\u001b[0m\u001b[1m(\u001b[22m\u001b[35m\u001b[1m8\u001b[22m\u001b[39m\u001b[0m\u001b[1m) \u001b[22m\u001b[0m\u001b[1mequations\u001b[22m\n",
       "\u001b[0m\u001b[1mStates (4):\u001b[22m\n",
       "  in₊p(t) [defaults to 1.0]\n",
       "  in₊q(t) [defaults to 1.0]\n",
       "  out₊p(t) [defaults to 1.0]\n",
       "  out₊q(t) [defaults to 1.0]\n",
       "\u001b[0m\u001b[1mParameters (7):\u001b[22m\n",
       "  L [defaults to 10.0]\n",
       "  D [defaults to 1.0]\n",
       "  f [defaults to 0.01]\n",
       "  K_inside [defaults to 0.0]\n",
       "⋮"
      ]
     },
     "metadata": {},
     "output_type": "display_data"
    }
   ],
   "source": [
    "@named test = Pipe()"
   ]
  },
  {
   "cell_type": "code",
   "execution_count": 5,
   "metadata": {},
   "outputs": [
    {
     "data": {
      "text/latex": [
       "$$ \\begin{align}\n",
       "port_{+}p\\left( t \\right) =& 100000\n",
       "\\end{align}\n",
       " $$"
      ],
      "text/plain": [
       "\u001b[0m\u001b[1mModel low with 1 \u001b[22m\u001b[0m\u001b[1m(\u001b[22m\u001b[35m\u001b[1m2\u001b[22m\u001b[39m\u001b[0m\u001b[1m) \u001b[22m\u001b[0m\u001b[1mequations\u001b[22m\n",
       "\u001b[0m\u001b[1mStates (2):\u001b[22m\n",
       "  port₊p(t) [defaults to 1.0]\n",
       "  port₊q(t) [defaults to 1.0]\n",
       "\u001b[0m\u001b[1mParameters (1):\u001b[22m\n",
       "  port₊z [defaults to 0.0]"
      ]
     },
     "metadata": {},
     "output_type": "display_data"
    }
   ],
   "source": [
    "@named low = Sink_P(p=100000)"
   ]
  },
  {
   "cell_type": "code",
   "execution_count": 6,
   "metadata": {},
   "outputs": [
    {
     "data": {
      "text/latex": [
       "$$ \\begin{equation}\n",
       "\\left[\n",
       "\\begin{array}{c}\n",
       "\\mathrm{connect}\\left( test_{+}out, low_{+}port \\right) \\\\\n",
       "\\end{array}\n",
       "\\right]\n",
       "\\end{equation}\n",
       " $$"
      ],
      "text/plain": [
       "1-element Vector{Equation}:\n",
       " connect(test.out, low.port)"
      ]
     },
     "metadata": {},
     "output_type": "display_data"
    }
   ],
   "source": [
    "eqs = [connect(test.out, low.port)]"
   ]
  },
  {
   "cell_type": "code",
   "execution_count": 7,
   "metadata": {},
   "outputs": [
    {
     "data": {
      "text/latex": [
       "$$ \\begin{equation}\n",
       "\\left[\n",
       "\\begin{array}{c}\n",
       "\\mathrm{connect}\\left( test_{+}out, low_{+}port \\right) \\\\\n",
       "test_{+}A_s = 3.1416 test_{+}D test_{+}L \\\\\n",
       "test_+\\rho = \\mathrm{PropsSI}\\left( D, P, test_{+}p, T, 300, CarbonDioxide[1.0] \\right) \\\\\n",
       "test_{+}p = 1.013 \\cdot 10^{5} \\\\\n",
       "test_+\\mu = \\mathrm{PropsSI}\\left( V, P, test_{+}p, T, 300, CarbonDioxide[1.0] \\right) \\\\\n",
       "test_{+}in_{+}z + \\frac{8 \\left|test_{+}in_{+}q\\left( t \\right)\\right|^{2}}{96.788 test_{+}D^{4}} + \\frac{test_{+}in_{+}p\\left( t \\right)}{9.8066 test_+\\rho} = test_{+}out_{+}z + test_{+}A_s test_{+}u + \\frac{8 \\left|test_{+}out_{+}q\\left( t \\right)\\right|^{2}}{96.788 test_{+}D^{4}} + \\frac{8 test_{+}K_{inside} test_{+}in_{+}q\\left( t \\right) \\left|test_{+}in_{+}q\\left( t \\right)\\right|}{96.788 test_{+}D^{4}} + \\frac{8 test_{+}L test_{+}f test_{+}in_{+}q\\left( t \\right) \\left|test_{+}in_{+}q\\left( t \\right)\\right|}{96.788 test_{+}D^{5}} + \\frac{test_{+}out_{+}p\\left( t \\right)}{9.8066 test_+\\rho} \\\\\n",
       "0 = test_{+}in_{+}q\\left( t \\right) + test_{+}out_{+}q\\left( t \\right) \\\\\n",
       "low_{+}port_{+}p\\left( t \\right) = 100000 \\\\\n",
       "\\end{array}\n",
       "\\right]\n",
       "\\end{equation}\n",
       " $$"
      ],
      "text/plain": [
       "\u001b[0m\u001b[1mModel model with 7 \u001b[22m\u001b[0m\u001b[1m(\u001b[22m\u001b[35m\u001b[1m10\u001b[22m\u001b[39m\u001b[0m\u001b[1m) \u001b[22m\u001b[0m\u001b[1mequations\u001b[22m\n",
       "\u001b[0m\u001b[1mStates (6):\u001b[22m\n",
       "  test₊in₊p(t) [defaults to 1.0]\n",
       "  test₊in₊q(t) [defaults to 1.0]\n",
       "  test₊out₊p(t) [defaults to 1.0]\n",
       "  test₊out₊q(t) [defaults to 1.0]\n",
       "⋮\n",
       "\u001b[0m\u001b[1mParameters (8):\u001b[22m\n",
       "  test₊L [defaults to 10.0]\n",
       "  test₊D [defaults to 1.0]\n",
       "  test₊f [defaults to 0.01]\n",
       "  test₊K_inside [defaults to 0.0]\n",
       "⋮"
      ]
     },
     "metadata": {},
     "output_type": "display_data"
    }
   ],
   "source": [
    "@named model = compose(ODESystem(eqs, t, name=:funs), [test, low])\n"
   ]
  },
  {
   "cell_type": "code",
   "execution_count": 8,
   "metadata": {},
   "outputs": [
    {
     "data": {
      "text/plain": [
       "retcode: Success\n",
       "Interpolation: specialized 4rd order \"free\" stiffness-aware interpolation\n",
       "t: 1-element Vector{Float64}:\n",
       " 0.0\n",
       "u: 1-element Vector{Vector{Float64}}:\n",
       " [111067.5874933406]"
      ]
     },
     "metadata": {},
     "output_type": "display_data"
    }
   ],
   "source": [
    "sys = structural_simplify(model)\n",
    "prob = ODEProblem(sys, [], (0.0, 0.0))\n",
    "sol = ModelingToolkit.:solve(prob)"
   ]
  },
  {
   "cell_type": "code",
   "execution_count": 13,
   "metadata": {},
   "outputs": [
    {
     "data": {
      "text/plain": [
       "1-element Vector{Float64}:\n",
       " 111067.5874933406"
      ]
     },
     "metadata": {},
     "output_type": "display_data"
    }
   ],
   "source": [
    "sol[test.in.p]"
   ]
  },
  {
   "cell_type": "code",
   "execution_count": 21,
   "metadata": {},
   "outputs": [
    {
     "data": {
      "text/plain": [
       "Dict{String, Any} with 2 entries:\n",
       "  \"t\"       => [0.0]\n",
       "  \"retcode\" => Success"
      ]
     },
     "metadata": {},
     "output_type": "display_data"
    }
   ],
   "source": [
    "Dict(\"retcode\" => sol.retcode, \"t\" => sol.t)"
   ]
  },
  {
   "cell_type": "code",
   "execution_count": 22,
   "metadata": {},
   "outputs": [
    {
     "ename": "MethodError",
     "evalue": "MethodError: no method matching String(::Dict{String, Any})\n\nClosest candidates are:\n  String(!Matched::CommonMark.AbstractParser)\n   @ CommonMark ~/.julia/packages/CommonMark/eJY7b/src/parsers.jl:6\n  String(!Matched::String)\n   @ Core boot.jl:360\n  String(!Matched::Core.Compiler.LazyString)\n   @ Core strings/lazy.jl:80\n  ...\n",
     "output_type": "error",
     "traceback": [
      "MethodError: no method matching String(::Dict{String, Any})\n",
      "\n",
      "Closest candidates are:\n",
      "  String(!Matched::CommonMark.AbstractParser)\n",
      "   @ CommonMark ~/.julia/packages/CommonMark/eJY7b/src/parsers.jl:6\n",
      "  String(!Matched::String)\n",
      "   @ Core boot.jl:360\n",
      "  String(!Matched::Core.Compiler.LazyString)\n",
      "   @ Core strings/lazy.jl:80\n",
      "  ...\n",
      "\n",
      "\n",
      "Stacktrace:\n",
      " [1] top-level scope\n",
      "   @ ~/Repos/jigsaw/engine/fluid.ipynb:1"
     ]
    }
   ],
   "source": [
    "String(Dict(\"retcode\" => sol.retcode, \"t\" => sol.t))"
   ]
  },
  {
   "cell_type": "code",
   "execution_count": 23,
   "metadata": {},
   "outputs": [],
   "source": [
    "using JSON3"
   ]
  },
  {
   "cell_type": "code",
   "execution_count": 26,
   "metadata": {},
   "outputs": [
    {
     "data": {
      "text/plain": [
       "\"{\\\"t\\\":[0.0],\\\"u\\\":[[111067.5874933406]],\\\"retcode\\\":\\\"Success\\\"}\""
      ]
     },
     "metadata": {},
     "output_type": "display_data"
    }
   ],
   "source": [
    "JSON3.write(Dict(\"retcode\" => sol.retcode, \"t\" => sol.t, \"u\" => sol.u))"
   ]
  },
  {
   "cell_type": "code",
   "execution_count": null,
   "metadata": {},
   "outputs": [],
   "source": []
  }
 ],
 "metadata": {
  "kernelspec": {
   "display_name": "Julia 1.9.3",
   "language": "julia",
   "name": "julia-1.9"
  },
  "language_info": {
   "file_extension": ".jl",
   "mimetype": "application/julia",
   "name": "julia",
   "version": "1.9.3"
  },
  "orig_nbformat": 4
 },
 "nbformat": 4,
 "nbformat_minor": 2
}
