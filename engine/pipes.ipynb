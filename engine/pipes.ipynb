{
 "cells": [
  {
   "cell_type": "code",
   "execution_count": 1,
   "metadata": {},
   "outputs": [],
   "source": [
    "using Ai4EComponentLib\n",
    "using Ai4EComponentLib.CompressedAirSystem\n",
    "using ModelingToolkit, DifferentialEquations\n",
    "using Plots"
   ]
  },
  {
   "cell_type": "code",
   "execution_count": 2,
   "metadata": {},
   "outputs": [
    {
     "data": {
      "text/plain": [
       "Dict{String, Real} with 2 entries:\n",
       "  \"T\" => 300\n",
       "  \"p\" => 400000.0"
      ]
     },
     "metadata": {},
     "output_type": "display_data"
    }
   ],
   "source": [
    "using Ai4EComponentLib\n",
    "using Ai4EComponentLib.CompressedAirSystem\n",
    "using ModelingToolkit, DifferentialEquations\n",
    "\n",
    "n0 = 4000\n",
    "h_polCoff = [-91.7802, 1058.2670, 3213.1520]\n",
    "etaCoff = [-0.0181, 0.2880, -0.2557]\n",
    "surgeCoff = [-2.950e-7, 4.8009, -5.1678]\n",
    "chokeCoff = [1.1054e-6, 8.6274, 20.7626]\n",
    "\n",
    "f=0.05                  # Friction resistance coefficient\n",
    "n = 15                  # Number of nodes\n",
    "D = 0.4                 # Pipe diameter\n",
    "L = 20                  # length\n",
    "R = 3000                # Resistance coefficient\n",
    "T = 300                 # Temperature\n",
    "qm0 = 10 * ones(n)      # Initial mass flow rate\n",
    "p0 = 10e5 * ones(n)     # initial pressure\n",
    "\n",
    "n2 = 40                 # Number of nodes\n",
    "D2 = 0.4                # Pipe diameter\n",
    "L2 = 200                # length\n",
    "R2 = 3000               # Resistance coefficient\n",
    "T2 = 300                # Temperature\n",
    "qm02 = 10 * ones(n2)    # Initial mass flow rate\n",
    "p02 = range(10e5,8e5,length=n2)  #initial pressure\n",
    "\n",
    "inletBoundary = Dict(\n",
    "    \"p\" => 1.0e5,\n",
    "    \"T\" => 300,\n",
    ")\n",
    "\n",
    "outletBoundary = Dict(\n",
    "    \"T\" => 300,\n",
    "    \"p\" => 4e5,\n",
    ")"
   ]
  },
  {
   "cell_type": "code",
   "execution_count": 3,
   "metadata": {},
   "outputs": [
    {
     "name": "stderr",
     "output_type": "stream",
     "text": [
      "┌ Warning: source contains 1 flow variables, yet 2 regular (non-flow, non-stream, non-input, non-output) variables. This could lead to imbalanced model that are difficult to debug. Consider marking some of the regular variables as input/output variables.\n",
      "└ @ ModelingToolkit /Users/jerell/.julia/packages/ModelingToolkit/hBVcX/src/systems/connectors.jl:40\n",
      "┌ Warning: source contains 1 flow variables, yet 2 regular (non-flow, non-stream, non-input, non-output) variables. This could lead to imbalanced model that are difficult to debug. Consider marking some of the regular variables as input/output variables.\n",
      "└ @ ModelingToolkit /Users/jerell/.julia/packages/ModelingToolkit/hBVcX/src/systems/connectors.jl:40\n"
     ]
    },
    {
     "data": {
      "text/latex": [
       "$$ \\begin{align}\n",
       "source_{+}T\\left( t \\right) =& 300 \\\\\n",
       "source_{+}p\\left( t \\right) =& 4 \\cdot 10^{5} \\\\\n",
       "0 =& \\mathrm{stateEquation}\\left( source_{+}p\\left( t \\right), source_+\\rho\\left( t \\right), source_{+}T\\left( t \\right) \\right) \\\\\n",
       "source_+\\mu\\left( t \\right) =& 1.819 \\cdot 10^{-5} \\\\\n",
       "source_{+}qv\\left( t \\right) =& \\frac{source_{+}qm\\left( t \\right)}{source_+\\rho\\left( t \\right)}\n",
       "\\end{align}\n",
       " $$"
      ],
      "text/plain": [
       "\u001b[0m\u001b[1mModel outletSource with 5 \u001b[22m\u001b[0m\u001b[1m(\u001b[22m\u001b[35m\u001b[1m6\u001b[22m\u001b[39m\u001b[0m\u001b[1m) \u001b[22m\u001b[0m\u001b[1mequations\u001b[22m\n",
       "\u001b[0m\u001b[1mStates (6):\u001b[22m\n",
       "  source₊T(t) [defaults to 300]\n",
       "  source₊p(t) [defaults to 101300.0]\n",
       "  source₊qm(t) [defaults to 0]\n",
       "  source₊ρ(t) [defaults to 1.2]\n",
       "⋮\n",
       "\u001b[0m\u001b[1mParameters (0):\u001b[22m"
      ]
     },
     "metadata": {},
     "output_type": "display_data"
    }
   ],
   "source": [
    "@named inletSource = Source(boundary=inletBoundary)\n",
    "@named outletSource = Source(boundary=outletBoundary)"
   ]
  },
  {
   "cell_type": "code",
   "execution_count": 4,
   "metadata": {},
   "outputs": [
    {
     "name": "stderr",
     "output_type": "stream",
     "text": [
      "┌ Warning: inlet contains 1 flow variables, yet 2 regular (non-flow, non-stream, non-input, non-output) variables. This could lead to imbalanced model that are difficult to debug. Consider marking some of the regular variables as input/output variables.\n",
      "└ @ ModelingToolkit /Users/jerell/.julia/packages/ModelingToolkit/hBVcX/src/systems/connectors.jl:40\n",
      "┌ Warning: outlet contains 1 flow variables, yet 2 regular (non-flow, non-stream, non-input, non-output) variables. This could lead to imbalanced model that are difficult to debug. Consider marking some of the regular variables as input/output variables.\n",
      "└ @ ModelingToolkit /Users/jerell/.julia/packages/ModelingToolkit/hBVcX/src/systems/connectors.jl:40\n"
     ]
    },
    {
     "name": "stderr",
     "output_type": "stream",
     "text": [
      "┌ Warning: inlet contains 1 flow variables, yet 2 regular (non-flow, non-stream, non-input, non-output) variables. This could lead to imbalanced model that are difficult to debug. Consider marking some of the regular variables as input/output variables.\n",
      "└ @ ModelingToolkit /Users/jerell/.julia/packages/ModelingToolkit/hBVcX/src/systems/connectors.jl:40\n",
      "┌ Warning: outlet contains 1 flow variables, yet 2 regular (non-flow, non-stream, non-input, non-output) variables. This could lead to imbalanced model that are difficult to debug. Consider marking some of the regular variables as input/output variables.\n",
      "└ @ ModelingToolkit /Users/jerell/.julia/packages/ModelingToolkit/hBVcX/src/systems/connectors.jl:40\n"
     ]
    },
    {
     "data": {
      "text/latex": [
       "$$ \\begin{align}\n",
       "\\frac{\\mathrm{d}}{\\mathrm{d}t} p(t)_2 =& \\frac{c1 \\left(  - qm(t)_2 + qm(t)_1 \\right)}{dx} \\\\\n",
       "\\frac{\\mathrm{d}}{\\mathrm{d}t} p(t)_3 =& \\frac{c1 \\left(  - qm(t)_3 + qm(t)_2 \\right)}{dx} \\\\\n",
       "\\frac{\\mathrm{d}}{\\mathrm{d}t} p(t)_4 =& \\frac{c1 \\left(  - qm(t)_4 + qm(t)_3 \\right)}{dx} \\\\\n",
       "\\frac{\\mathrm{d}}{\\mathrm{d}t} p(t)_5 =& \\frac{c1 \\left(  - qm(t)_5 + qm(t)_4 \\right)}{dx} \\\\\n",
       "\\frac{\\mathrm{d}}{\\mathrm{d}t} p(t)_6 =& \\frac{c1 \\left(  - qm(t)_6 + qm(t)_5 \\right)}{dx} \\\\\n",
       "\\frac{\\mathrm{d}}{\\mathrm{d}t} p(t)_7 =& \\frac{c1 \\left(  - qm(t)_7 + qm(t)_6 \\right)}{dx} \\\\\n",
       "\\frac{\\mathrm{d}}{\\mathrm{d}t} p(t)_8 =& \\frac{c1 \\left(  - qm(t)_8 + qm(t)_7 \\right)}{dx} \\\\\n",
       "\\frac{\\mathrm{d}}{\\mathrm{d}t} p(t)_9 =& \\frac{c1 \\left(  - qm(t)_9 + qm(t)_8 \\right)}{dx} \\\\\n",
       "\\frac{\\mathrm{d}}{\\mathrm{d}t} p(t)_{1 0} =& \\frac{c1 \\left(  - qm(t)_{1 0} + qm(t)_9 \\right)}{dx} \\\\\n",
       "\\frac{\\mathrm{d}}{\\mathrm{d}t} p(t)_{1 1} =& \\frac{c1 \\left(  - qm(t)_{1 1} + qm(t)_{1 0} \\right)}{dx} \\\\\n",
       "\\frac{\\mathrm{d}}{\\mathrm{d}t} p(t)_{1 2} =& \\frac{c1 \\left(  - qm(t)_{1 2} + qm(t)_{1 1} \\right)}{dx} \\\\\n",
       "\\frac{\\mathrm{d}}{\\mathrm{d}t} p(t)_{1 3} =& \\frac{c1 \\left(  - qm(t)_{1 3} + qm(t)_{1 2} \\right)}{dx} \\\\\n",
       "\\frac{\\mathrm{d}}{\\mathrm{d}t} p(t)_{1 4} =& \\frac{c1 \\left(  - qm(t)_{1 4} + qm(t)_{1 3} \\right)}{dx} \\\\\n",
       "\\frac{\\mathrm{d}}{\\mathrm{d}t} p(t)_{1 5} =& \\frac{c1 \\left(  - qm(t)_{1 5} + qm(t)_{1 4} \\right)}{dx} \\\\\n",
       "\\frac{\\mathrm{d}}{\\mathrm{d}t} qm(t)_2 =& \\frac{\\left(  - A + \\frac{qm(t)_2^{2} c1}{0.25 \\left( p(t)_2 + p(t)_3 \\right)^{2}} \\right) \\left(  - p(t)_2 + p(t)_3 \\right)}{dx} + \\frac{c1 \\left(  - qm(t)_3 + qm(t)_1 \\right) qm(t)_2}{0.5 dx \\left( p(t)_2 + p(t)_3 \\right)} + \\frac{ - c2 \\left|qm(t)_2\\right| qm(t)_2}{0.5 \\left( p(t)_2 + p(t)_3 \\right)} \\\\\n",
       "\\frac{\\mathrm{d}}{\\mathrm{d}t} qm(t)_3 =& \\frac{\\left(  - A + \\frac{qm(t)_3^{2} c1}{0.25 \\left( p(t)_3 + p(t)_4 \\right)^{2}} \\right) \\left(  - p(t)_3 + p(t)_4 \\right)}{dx} + \\frac{c1 \\left(  - qm(t)_4 + qm(t)_2 \\right) qm(t)_3}{0.5 dx \\left( p(t)_3 + p(t)_4 \\right)} + \\frac{ - c2 \\left|qm(t)_3\\right| qm(t)_3}{0.5 \\left( p(t)_3 + p(t)_4 \\right)} \\\\\n",
       "\\frac{\\mathrm{d}}{\\mathrm{d}t} qm(t)_4 =& \\frac{\\left(  - A + \\frac{qm(t)_4^{2} c1}{0.25 \\left( p(t)_4 + p(t)_5 \\right)^{2}} \\right) \\left(  - p(t)_4 + p(t)_5 \\right)}{dx} + \\frac{c1 \\left(  - qm(t)_5 + qm(t)_3 \\right) qm(t)_4}{0.5 dx \\left( p(t)_4 + p(t)_5 \\right)} + \\frac{ - c2 \\left|qm(t)_4\\right| qm(t)_4}{0.5 \\left( p(t)_4 + p(t)_5 \\right)} \\\\\n",
       "\\frac{\\mathrm{d}}{\\mathrm{d}t} qm(t)_5 =& \\frac{\\left(  - A + \\frac{qm(t)_5^{2} c1}{0.25 \\left( p(t)_5 + p(t)_6 \\right)^{2}} \\right) \\left(  - p(t)_5 + p(t)_6 \\right)}{dx} + \\frac{c1 \\left(  - qm(t)_6 + qm(t)_4 \\right) qm(t)_5}{0.5 dx \\left( p(t)_5 + p(t)_6 \\right)} + \\frac{ - c2 \\left|qm(t)_5\\right| qm(t)_5}{0.5 \\left( p(t)_5 + p(t)_6 \\right)} \\\\\n",
       "\\frac{\\mathrm{d}}{\\mathrm{d}t} qm(t)_6 =& \\frac{\\left(  - A + \\frac{qm(t)_6^{2} c1}{0.25 \\left( p(t)_6 + p(t)_7 \\right)^{2}} \\right) \\left(  - p(t)_6 + p(t)_7 \\right)}{dx} + \\frac{c1 \\left(  - qm(t)_7 + qm(t)_5 \\right) qm(t)_6}{0.5 dx \\left( p(t)_6 + p(t)_7 \\right)} + \\frac{ - c2 \\left|qm(t)_6\\right| qm(t)_6}{0.5 \\left( p(t)_6 + p(t)_7 \\right)} \\\\\n",
       "\\frac{\\mathrm{d}}{\\mathrm{d}t} qm(t)_7 =& \\frac{\\left(  - A + \\frac{qm(t)_7^{2} c1}{0.25 \\left( p(t)_7 + p(t)_8 \\right)^{2}} \\right) \\left(  - p(t)_7 + p(t)_8 \\right)}{dx} + \\frac{c1 \\left(  - qm(t)_8 + qm(t)_6 \\right) qm(t)_7}{0.5 dx \\left( p(t)_7 + p(t)_8 \\right)} + \\frac{ - c2 \\left|qm(t)_7\\right| qm(t)_7}{0.5 \\left( p(t)_7 + p(t)_8 \\right)} \\\\\n",
       "\\frac{\\mathrm{d}}{\\mathrm{d}t} qm(t)_8 =& \\frac{\\left(  - A + \\frac{qm(t)_8^{2} c1}{0.25 \\left( p(t)_8 + p(t)_9 \\right)^{2}} \\right) \\left(  - p(t)_8 + p(t)_9 \\right)}{dx} + \\frac{c1 \\left(  - qm(t)_9 + qm(t)_7 \\right) qm(t)_8}{0.5 dx \\left( p(t)_8 + p(t)_9 \\right)} + \\frac{ - c2 \\left|qm(t)_8\\right| qm(t)_8}{0.5 \\left( p(t)_8 + p(t)_9 \\right)} \\\\\n",
       "\\frac{\\mathrm{d}}{\\mathrm{d}t} qm(t)_9 =& \\frac{\\left(  - A + \\frac{qm(t)_9^{2} c1}{0.25 \\left( p(t)_9 + p(t)_{1 0} \\right)^{2}} \\right) \\left(  - p(t)_9 + p(t)_{1 0} \\right)}{dx} + \\frac{c1 \\left(  - qm(t)_{1 0} + qm(t)_8 \\right) qm(t)_9}{0.5 dx \\left( p(t)_9 + p(t)_{1 0} \\right)} + \\frac{ - c2 \\left|qm(t)_9\\right| qm(t)_9}{0.5 \\left( p(t)_9 + p(t)_{1 0} \\right)} \\\\\n",
       "\\frac{\\mathrm{d}}{\\mathrm{d}t} qm(t)_{1 0} =& \\frac{\\left(  - A + \\frac{qm(t)_{1 0}^{2} c1}{0.25 \\left( p(t)_{1 0} + p(t)_{1 1} \\right)^{2}} \\right) \\left(  - p(t)_{1 0} + p(t)_{1 1} \\right)}{dx} + \\frac{c1 \\left(  - qm(t)_{1 1} + qm(t)_9 \\right) qm(t)_{1 0}}{0.5 dx \\left( p(t)_{1 0} + p(t)_{1 1} \\right)} + \\frac{ - c2 \\left|qm(t)_{1 0}\\right| qm(t)_{1 0}}{0.5 \\left( p(t)_{1 0} + p(t)_{1 1} \\right)} \\\\\n",
       "\\frac{\\mathrm{d}}{\\mathrm{d}t} qm(t)_{1 1} =& \\frac{\\left(  - A + \\frac{qm(t)_{1 1}^{2} c1}{0.25 \\left( p(t)_{1 1} + p(t)_{1 2} \\right)^{2}} \\right) \\left(  - p(t)_{1 1} + p(t)_{1 2} \\right)}{dx} + \\frac{c1 \\left(  - qm(t)_{1 2} + qm(t)_{1 0} \\right) qm(t)_{1 1}}{0.5 dx \\left( p(t)_{1 1} + p(t)_{1 2} \\right)} + \\frac{ - c2 \\left|qm(t)_{1 1}\\right| qm(t)_{1 1}}{0.5 \\left( p(t)_{1 1} + p(t)_{1 2} \\right)} \\\\\n",
       "\\frac{\\mathrm{d}}{\\mathrm{d}t} qm(t)_{1 2} =& \\frac{\\left(  - A + \\frac{qm(t)_{1 2}^{2} c1}{0.25 \\left( p(t)_{1 2} + p(t)_{1 3} \\right)^{2}} \\right) \\left(  - p(t)_{1 2} + p(t)_{1 3} \\right)}{dx} + \\frac{c1 \\left(  - qm(t)_{1 3} + qm(t)_{1 1} \\right) qm(t)_{1 2}}{0.5 dx \\left( p(t)_{1 2} + p(t)_{1 3} \\right)} + \\frac{ - c2 \\left|qm(t)_{1 2}\\right| qm(t)_{1 2}}{0.5 \\left( p(t)_{1 2} + p(t)_{1 3} \\right)} \\\\\n",
       "\\frac{\\mathrm{d}}{\\mathrm{d}t} qm(t)_{1 3} =& \\frac{\\left(  - A + \\frac{qm(t)_{1 3}^{2} c1}{0.25 \\left( p(t)_{1 3} + p(t)_{1 4} \\right)^{2}} \\right) \\left(  - p(t)_{1 3} + p(t)_{1 4} \\right)}{dx} + \\frac{c1 \\left(  - qm(t)_{1 4} + qm(t)_{1 2} \\right) qm(t)_{1 3}}{0.5 dx \\left( p(t)_{1 3} + p(t)_{1 4} \\right)} + \\frac{ - c2 \\left|qm(t)_{1 3}\\right| qm(t)_{1 3}}{0.5 \\left( p(t)_{1 3} + p(t)_{1 4} \\right)} \\\\\n",
       "\\frac{\\mathrm{d}}{\\mathrm{d}t} qm(t)_{1 4} =& \\frac{\\left(  - A + \\frac{qm(t)_{1 4}^{2} c1}{0.25 \\left( p(t)_{1 4} + p(t)_{1 5} \\right)^{2}} \\right) \\left(  - p(t)_{1 4} + p(t)_{1 5} \\right)}{dx} + \\frac{c1 \\left(  - qm(t)_{1 5} + qm(t)_{1 3} \\right) qm(t)_{1 4}}{0.5 dx \\left( p(t)_{1 4} + p(t)_{1 5} \\right)} + \\frac{ - c2 \\left|qm(t)_{1 4}\\right| qm(t)_{1 4}}{0.5 \\left( p(t)_{1 4} + p(t)_{1 5} \\right)} \\\\\n",
       "\\frac{\\mathrm{d}}{\\mathrm{d}t} qm(t)_1 =& \\frac{\\left(  - A + \\frac{qm(t)_1^{2} c1}{0.25 \\left( p(t)_1 + p(t)_2 \\right)^{2}} \\right) \\left(  - p(t)_1 + p(t)_2 \\right)}{dx} + \\frac{c1 \\left( 3 qm(t)_1 - 4 qm(t)_2 + qm(t)_3 \\right) qm(t)_1}{0.5 dx \\left( p(t)_1 + p(t)_2 \\right)} + \\frac{ - c2 \\left|qm(t)_1\\right| qm(t)_1}{0.5 \\left( p(t)_1 + p(t)_2 \\right)} \\\\\n",
       "\\frac{\\mathrm{d}}{\\mathrm{d}t} qm(t)_{1 5} =& \\frac{\\left(  - A + \\frac{qm(t)_{1 5}^{2} c1}{0.25 \\left( p(t)_{1 5} + p(t)_{1 6} \\right)^{2}} \\right) \\left(  - p(t)_{1 5} + p(t)_{1 6} \\right)}{dx} + \\frac{c1 \\left(  - qm(t)_{1 3} + 4 qm(t)_{1 4} - 3 qm(t)_{1 5} \\right) qm(t)_{1 5}}{0.5 dx \\left( p(t)_{1 5} + p(t)_{1 6} \\right)} + \\frac{ - c2 \\left|qm(t)_{1 5}\\right| qm(t)_{1 5}}{0.5 \\left( p(t)_{1 5} + p(t)_{1 6} \\right)} \\\\\n",
       "p(t)_1 =& inlet_{+}p\\left( t \\right) \\\\\n",
       "p(t)_{1 6} =& outlet_{+}p\\left( t \\right) \\\\\n",
       "qm(t)_{1 5} =&  - outlet_{+}qm\\left( t \\right) \\\\\n",
       "qm(t)_1 =& inlet_{+}qm\\left( t \\right) \\\\\n",
       "0 =& \\mathrm{stateEquation}\\left( inlet_{+}p\\left( t \\right), inlet_+\\rho\\left( t \\right), inlet_{+}T\\left( t \\right) \\right) \\\\\n",
       "inlet_+\\mu\\left( t \\right) =& 1.819 \\cdot 10^{-5} \\\\\n",
       "inlet_{+}qv\\left( t \\right) =& \\frac{inlet_{+}qm\\left( t \\right)}{inlet_+\\rho\\left( t \\right)} \\\\\n",
       "0 =& \\mathrm{stateEquation}\\left( outlet_{+}p\\left( t \\right), outlet_+\\rho\\left( t \\right), outlet_{+}T\\left( t \\right) \\right) \\\\\n",
       "outlet_+\\mu\\left( t \\right) =& 1.819 \\cdot 10^{-5} \\\\\n",
       "outlet_{+}qv\\left( t \\right) =& \\frac{outlet_{+}qm\\left( t \\right)}{outlet_+\\rho\\left( t \\right)}\n",
       "\\end{align}\n",
       " $$"
      ],
      "text/plain": [
       "\u001b[0m\u001b[1mModel transPipe2 with 39 \u001b[22m\u001b[0m\u001b[1m(\u001b[22m\u001b[35m\u001b[1m41\u001b[22m\u001b[39m\u001b[0m\u001b[1m) \u001b[22m\u001b[0m\u001b[1mequations\u001b[22m\n",
       "\u001b[0m\u001b[1mStates (43):\u001b[22m\n",
       "  (p(t))[2] [defaults to 1.0e6]\n",
       "  (p(t))[3] [defaults to 1.0e6]\n",
       "  (p(t))[4] [defaults to 1.0e6]\n",
       "  (p(t))[5] [defaults to 1.0e6]\n",
       "⋮\n",
       "\u001b[0m\u001b[1mParameters (4):\u001b[22m\n",
       "  dx [defaults to 1.33333]\n",
       "  c1 [defaults to 6.85425e5]\n",
       "  c2 [defaults to 42839.0]\n",
       "  A [defaults to 0.125664]"
      ]
     },
     "metadata": {},
     "output_type": "display_data"
    }
   ],
   "source": [
    "@named transPipe1 = TransitionPipe(n=n, D=D, L=L, T=T, p0=p0, qm0=qm0, f=f)\n",
    "@named transPipe2 = TransitionPipe(n=n, D=D, L=L, T=T, p0=p0, qm0=qm0, f=f)"
   ]
  },
  {
   "cell_type": "code",
   "execution_count": 7,
   "metadata": {},
   "outputs": [
    {
     "data": {
      "text/latex": [
       "$$ \\begin{equation}\n",
       "\\left[\n",
       "\\begin{array}{c}\n",
       "\\mathrm{connect}\\left( inletSource_{+}source, transPipe1_{+}inlet \\right) \\\\\n",
       "\\mathrm{connect}\\left( transPipe1_{+}outlet, transPipe2_{+}inlet \\right) \\\\\n",
       "\\mathrm{connect}\\left( transPipe2_{+}outlet, outletSource_{+}source \\right) \\\\\n",
       "\\end{array}\n",
       "\\right]\n",
       "\\end{equation}\n",
       " $$"
      ],
      "text/plain": [
       "3-element Vector{Equation}:\n",
       " connect(inletSource.source, transPipe1.inlet)\n",
       " connect(transPipe1.outlet, transPipe2.inlet)\n",
       " connect(transPipe2.outlet, outletSource.source)"
      ]
     },
     "metadata": {},
     "output_type": "display_data"
    }
   ],
   "source": [
    "eqs = [\n",
    "    connect(inletSource.source, transPipe1.inlet),\n",
    "    connect(transPipe1.outlet, transPipe2.inlet),\n",
    "    connect(transPipe2.outlet, outletSource.source)\n",
    "]"
   ]
  },
  {
   "cell_type": "code",
   "execution_count": 8,
   "metadata": {},
   "outputs": [
    {
     "ename": "ModelingToolkit.ExtraVariablesSystemException",
     "evalue": "ExtraVariablesSystemException: The system is unbalanced. There are 98 highest order derivative variables and 97 equations.\nMore variables than equations, here are the potential extra variable(s):\n (transPipe1₊p(t))[2]\n (transPipe1₊p(t))[3]\n (transPipe1₊p(t))[4]\n (transPipe1₊p(t))[5]\n (transPipe1₊p(t))[6]\n (transPipe1₊p(t))[7]\n (transPipe1₊p(t))[8]\n (transPipe1₊p(t))[9]\n (transPipe1₊p(t))[10]\n (transPipe1₊p(t))[11]\n (transPipe1₊p(t))[12]\n (transPipe1₊p(t))[13]\n (transPipe1₊p(t))[14]\n (transPipe1₊p(t))[15]\n (transPipe1₊qm(t))[2]\n (transPipe1₊qm(t))[3]\n (transPipe1₊qm(t))[4]\n (transPipe1₊qm(t))[5]\n (transPipe1₊qm(t))[6]\n (transPipe1₊qm(t))[7]\n (transPipe1₊qm(t))[8]\n (transPipe1₊qm(t))[9]\n (transPipe1₊qm(t))[10]\n (transPipe1₊qm(t))[11]\n (transPipe1₊qm(t))[12]\n (transPipe1₊qm(t))[13]\n (transPipe1₊qm(t))[14]\n (transPipe1₊qm(t))[1]\n (transPipe1₊qm(t))[15]\n (transPipe2₊p(t))[2]\n (transPipe2₊p(t))[3]\n (transPipe2₊p(t))[4]\n (transPipe2₊p(t))[5]\n (transPipe2₊p(t))[6]\n (transPipe2₊p(t))[7]\n (transPipe2₊p(t))[8]\n (transPipe2₊p(t))[9]\n (transPipe2₊p(t))[10]\n (transPipe2₊p(t))[11]\n (transPipe2₊p(t))[12]\n (transPipe2₊p(t))[13]\n (transPipe2₊p(t))[14]\n (transPipe2₊p(t))[15]\n (transPipe2₊qm(t))[2]\n (transPipe2₊qm(t))[3]\n (transPipe2₊qm(t))[4]\n (transPipe2₊qm(t))[5]\n (transPipe2₊qm(t))[6]\n (transPipe2₊qm(t))[7]\n (transPipe2₊qm(t))[8]\n (transPipe2₊qm(t))[9]\n (transPipe2₊qm(t))[10]\n (transPipe2₊qm(t))[11]\n (transPipe2₊qm(t))[12]\n (transPipe2₊qm(t))[13]\n (transPipe2₊qm(t))[14]\n (transPipe2₊qm(t))[1]\n (transPipe2₊qm(t))[15]\n transPipe1₊outlet₊qv(t)\n transPipe2₊inlet₊qv(t)",
     "output_type": "error",
     "traceback": [
      "ExtraVariablesSystemException: The system is unbalanced. There are 98 highest order derivative variables and 97 equations.\n",
      "More variables than equations, here are the potential extra variable(s):\n",
      " (transPipe1₊p(t))[2]\n",
      " (transPipe1₊p(t))[3]\n",
      " (transPipe1₊p(t))[4]\n",
      " (transPipe1₊p(t))[5]\n",
      " (transPipe1₊p(t))[6]\n",
      " (transPipe1₊p(t))[7]\n",
      " (transPipe1₊p(t))[8]\n",
      " (transPipe1₊p(t))[9]\n",
      " (transPipe1₊p(t))[10]\n",
      " (transPipe1₊p(t))[11]\n",
      " (transPipe1₊p(t))[12]\n",
      " (transPipe1₊p(t))[13]\n",
      " (transPipe1₊p(t))[14]\n",
      " (transPipe1₊p(t))[15]\n",
      " (transPipe1₊qm(t))[2]\n",
      " (transPipe1₊qm(t))[3]\n",
      " (transPipe1₊qm(t))[4]\n",
      " (transPipe1₊qm(t))[5]\n",
      " (transPipe1₊qm(t))[6]\n",
      " (transPipe1₊qm(t))[7]\n",
      " (transPipe1₊qm(t))[8]\n",
      " (transPipe1₊qm(t))[9]\n",
      " (transPipe1₊qm(t))[10]\n",
      " (transPipe1₊qm(t))[11]\n",
      " (transPipe1₊qm(t))[12]\n",
      " (transPipe1₊qm(t))[13]\n",
      " (transPipe1₊qm(t))[14]\n",
      " (transPipe1₊qm(t))[1]\n",
      " (transPipe1₊qm(t))[15]\n",
      " (transPipe2₊p(t))[2]\n",
      " (transPipe2₊p(t))[3]\n",
      " (transPipe2₊p(t))[4]\n",
      " (transPipe2₊p(t))[5]\n",
      " (transPipe2₊p(t))[6]\n",
      " (transPipe2₊p(t))[7]\n",
      " (transPipe2₊p(t))[8]\n",
      " (transPipe2₊p(t))[9]\n",
      " (transPipe2₊p(t))[10]\n",
      " (transPipe2₊p(t))[11]\n",
      " (transPipe2₊p(t))[12]\n",
      " (transPipe2₊p(t))[13]\n",
      " (transPipe2₊p(t))[14]\n",
      " (transPipe2₊p(t))[15]\n",
      " (transPipe2₊qm(t))[2]\n",
      " (transPipe2₊qm(t))[3]\n",
      " (transPipe2₊qm(t))[4]\n",
      " (transPipe2₊qm(t))[5]\n",
      " (transPipe2₊qm(t))[6]\n",
      " (transPipe2₊qm(t))[7]\n",
      " (transPipe2₊qm(t))[8]\n",
      " (transPipe2₊qm(t))[9]\n",
      " (transPipe2₊qm(t))[10]\n",
      " (transPipe2₊qm(t))[11]\n",
      " (transPipe2₊qm(t))[12]\n",
      " (transPipe2₊qm(t))[13]\n",
      " (transPipe2₊qm(t))[14]\n",
      " (transPipe2₊qm(t))[1]\n",
      " (transPipe2₊qm(t))[15]\n",
      " transPipe1₊outlet₊qv(t)\n",
      " transPipe2₊inlet₊qv(t)\n",
      "\n",
      "Stacktrace:\n",
      " [1] error_reporting(state::TearingState{ODESystem}, bad_idxs::Vector{Int64}, n_highest_vars::Int64, iseqs::Bool, orig_inputs::Set{Any})\n",
      "   @ ModelingToolkit.StructuralTransformations ~/.julia/packages/ModelingToolkit/hBVcX/src/structural_transformation/utils.jl:50\n",
      " [2] check_consistency(state::TearingState{ODESystem}, orig_inputs::Set{Any})\n",
      "   @ ModelingToolkit.StructuralTransformations ~/.julia/packages/ModelingToolkit/hBVcX/src/structural_transformation/utils.jl:85\n",
      " [3] _structural_simplify!(state::TearingState{ODESystem}, io::Nothing; simplify::Bool, check_consistency::Bool, fully_determined::Bool, kwargs::Base.Pairs{Symbol, Union{}, Tuple{}, NamedTuple{(), Tuple{}}})\n",
      "   @ ModelingToolkit.SystemStructures ~/.julia/packages/ModelingToolkit/hBVcX/src/systems/systemstructure.jl:612\n",
      " [4] _structural_simplify!\n",
      "   @ ~/.julia/packages/ModelingToolkit/hBVcX/src/systems/systemstructure.jl:600 [inlined]\n",
      " [5] structural_simplify!(state::TearingState{ODESystem}, io::Nothing; simplify::Bool, check_consistency::Bool, fully_determined::Bool, kwargs::Base.Pairs{Symbol, Union{}, Tuple{}, NamedTuple{(), Tuple{}}})\n",
      "   @ ModelingToolkit.SystemStructures ~/.julia/packages/ModelingToolkit/hBVcX/src/systems/systemstructure.jl:566\n",
      " [6] structural_simplify(sys::ODESystem, io::Nothing; simplify::Bool, kwargs::Base.Pairs{Symbol, Union{}, Tuple{}, NamedTuple{(), Tuple{}}})\n",
      "   @ ModelingToolkit ~/.julia/packages/ModelingToolkit/hBVcX/src/systems/systems.jl:0\n",
      " [7] structural_simplify\n",
      "   @ ~/.julia/packages/ModelingToolkit/hBVcX/src/systems/systems.jl:19 [inlined]\n",
      " [8] structural_simplify(sys::ODESystem)\n",
      "   @ ModelingToolkit ~/.julia/packages/ModelingToolkit/hBVcX/src/systems/systems.jl:19\n",
      " [9] top-level scope\n",
      "   @ ~/Repos/jigsaw/engine/pipes.ipynb:10"
     ]
    }
   ],
   "source": [
    "@named eq_model = ODESystem(eqs, t)\n",
    "@named model = compose(\n",
    "    eq_model,\n",
    "    inletSource,\n",
    "    outletSource,\n",
    "    transPipe1,\n",
    "    transPipe2\n",
    ")\n",
    "\n",
    "sys = structural_simplify(model)\n",
    "prob = ODEProblem(sys, [], (0, 3))\n",
    "sol = solve(prob, Rodas4())"
   ]
  }
 ],
 "metadata": {
  "kernelspec": {
   "display_name": "Julia 1.9.3",
   "language": "julia",
   "name": "julia-1.9"
  },
  "language_info": {
   "file_extension": ".jl",
   "mimetype": "application/julia",
   "name": "julia",
   "version": "1.9.3"
  },
  "orig_nbformat": 4
 },
 "nbformat": 4,
 "nbformat_minor": 2
}
