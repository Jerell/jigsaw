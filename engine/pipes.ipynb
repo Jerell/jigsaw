{
 "cells": [
  {
   "cell_type": "code",
   "execution_count": 1,
   "metadata": {},
   "outputs": [],
   "source": [
    "using Ai4EComponentLib\n",
    "using Ai4EComponentLib.CompressedAirSystem\n",
    "using ModelingToolkit, DifferentialEquations\n",
    "using Plots"
   ]
  },
  {
   "cell_type": "code",
   "execution_count": 2,
   "metadata": {},
   "outputs": [
    {
     "data": {
      "text/plain": [
       "Dict{String, Real} with 2 entries:\n",
       "  \"T\" => 300\n",
       "  \"p\" => 400000.0"
      ]
     },
     "metadata": {},
     "output_type": "display_data"
    }
   ],
   "source": [
    "n0 = 4000\n",
    "h_polCoff = [-91.7802, 1058.2670, 3213.1520]\n",
    "etaCoff = [-0.0181, 0.2880, -0.2557]\n",
    "surgeCoff = [-2.950e-7, 4.8009, -5.1678]\n",
    "chokeCoff = [1.1054e-6, 8.6274, 20.7626]\n",
    "\n",
    "f=0.05                  # Friction resistance coefficient\n",
    "n = 15                  # Number of nodes\n",
    "D = 0.4                 # Pipe diameter\n",
    "L = 20                  # length\n",
    "R = 3000                # Resistance coefficient\n",
    "T = 300                 # Temperature\n",
    "qm0 = 10 * ones(n)      # Initial mass flow rate\n",
    "p0 = 10e5 * ones(n)     # initial pressure\n",
    "\n",
    "n2 = 40                 # Number of nodes\n",
    "D2 = 0.4                # Pipe diameter\n",
    "L2 = 200                # length\n",
    "R2 = 3000               # Resistance coefficient\n",
    "T2 = 300                # Temperature\n",
    "qm02 = 10 * ones(n2)    # Initial mass flow rate\n",
    "p02 = range(10e5,8e5,length=n2)  #initial pressure\n",
    "\n",
    "inletBoundary = Dict(\n",
    "    \"p\" => 1.0e5,\n",
    "    \"T\" => 300,\n",
    ")\n",
    "\n",
    "outletBoundary = Dict(\n",
    "    \"T\" => 300,\n",
    "    \"p\" => 4e5,\n",
    ")"
   ]
  },
  {
   "cell_type": "code",
   "execution_count": 3,
   "metadata": {},
   "outputs": [
    {
     "name": "stderr",
     "output_type": "stream",
     "text": [
      "┌ Warning: source contains 1 flow variables, yet 2 regular (non-flow, non-stream, non-input, non-output) variables. This could lead to imbalanced model that are difficult to debug. Consider marking some of the regular variables as input/output variables.\n",
      "└ @ ModelingToolkit /Users/jerell/.julia/packages/ModelingToolkit/hBVcX/src/systems/connectors.jl:40\n",
      "┌ Warning: source contains 1 flow variables, yet 2 regular (non-flow, non-stream, non-input, non-output) variables. This could lead to imbalanced model that are difficult to debug. Consider marking some of the regular variables as input/output variables.\n",
      "└ @ ModelingToolkit /Users/jerell/.julia/packages/ModelingToolkit/hBVcX/src/systems/connectors.jl:40\n"
     ]
    },
    {
     "data": {
      "text/latex": [
       "$$ \\begin{align}\n",
       "source_{+}T\\left( t \\right) =& 300 \\\\\n",
       "source_{+}p\\left( t \\right) =& 4 \\cdot 10^{5} \\\\\n",
       "0 =& \\mathrm{stateEquation}\\left( source_{+}p\\left( t \\right), source_+\\rho\\left( t \\right), source_{+}T\\left( t \\right) \\right) \\\\\n",
       "source_+\\mu\\left( t \\right) =& 1.819 \\cdot 10^{-5} \\\\\n",
       "source_{+}qv\\left( t \\right) =& \\frac{source_{+}qm\\left( t \\right)}{source_+\\rho\\left( t \\right)}\n",
       "\\end{align}\n",
       " $$"
      ],
      "text/plain": [
       "\u001b[0m\u001b[1mModel outletSource with 5 \u001b[22m\u001b[0m\u001b[1m(\u001b[22m\u001b[35m\u001b[1m6\u001b[22m\u001b[39m\u001b[0m\u001b[1m) \u001b[22m\u001b[0m\u001b[1mequations\u001b[22m\n",
       "\u001b[0m\u001b[1mStates (6):\u001b[22m\n",
       "  source₊T(t) [defaults to 300]\n",
       "  source₊p(t) [defaults to 101300.0]\n",
       "  source₊qm(t) [defaults to 0]\n",
       "  source₊ρ(t) [defaults to 1.2]\n",
       "⋮\n",
       "\u001b[0m\u001b[1mParameters (0):\u001b[22m"
      ]
     },
     "metadata": {},
     "output_type": "display_data"
    }
   ],
   "source": [
    "@named inletSource = Source(boundary=inletBoundary)\n",
    "@named outletSource = Source(boundary=outletBoundary)"
   ]
  },
  {
   "cell_type": "code",
   "execution_count": 4,
   "metadata": {},
   "outputs": [
    {
     "data": {
      "text/plain": [
       "TransitionPipe3 (generic function with 1 method)"
      ]
     },
     "metadata": {},
     "output_type": "display_data"
    }
   ],
   "source": [
    "function TransitionPipe3(; name, n=10, f=0.011, D=1.0, L=1.0, T=300, p0=zeros(n), qm0=zeros(n))\n",
    "\n",
    "    RT = 287.11 * T\n",
    "    A0 = pi / 4 * D^2\n",
    "    c10 = RT / A0\n",
    "    c20 = c10 * f / 2 / D\n",
    "\n",
    "    @named inlet = FlowPort()\n",
    "    @named outlet = FlowPort()\n",
    "\n",
    "    @parameters begin\n",
    "        A = A0\n",
    "        c1 = c10\n",
    "        c2 = c20\n",
    "        dx = L / n\n",
    "        f = f\n",
    "    end\n",
    "\n",
    "    @variables (qm(t))[1:n] (p(t))[1:n+1]\n",
    "\n",
    "    initialValue = Dict(qm[i] => qm0[i] for i = 1:n)\n",
    "    merge!(initialValue, Dict(p[i] => p0[i] for i = 1:n))\n",
    "\n",
    "    eqs_continous = [\n",
    "        ∂(p[i]) ~ c1 * (qm[i-1] - qm[i]) / dx\n",
    "        for i = 2:n\n",
    "    ]\n",
    "\n",
    "    eqs_momentum = [\n",
    "        ∂(qm[i]) ~ (c1 * qm[i]^2 / (0.5 * (p[i+1] + p[i]))^2 - A) * (p[i+1] - p[i]) / dx + c1 * qm[i] / (0.5 * (p[i+1] + p[i])) * (qm[i-1] - qm[i+1]) / dx - c2 * qm[i] * abs(qm[i]) / (0.5 * (p[i+1] + p[i]))\n",
    "        for i = 2:n-1\n",
    "    ]\n",
    "\n",
    "    bd = [\n",
    "        p[1] ~ inlet.p\n",
    "        p[n+1] ~ outlet.p\n",
    "        qm[n] ~ -outlet.qm\n",
    "        qm[1] ~ inlet.qm\n",
    "        ∂(qm[1]) ~ (c1 * qm[1]^2 / (0.5 * (p[2] + p[1]))^2 - A) * (p[2] - p[1]) / dx + c1 * qm[1] / (0.5 * (p[2] + p[1])) * (3 * qm[1] - 4 * qm[2] + qm[3]) / dx - c2 * qm[1] * abs(qm[1]) / (0.5 * (p[2] + p[1]))\n",
    "        ∂(qm[n]) ~ (c1 * qm[n]^2 / (0.5 * (p[n+1] + p[n]))^2 - A) * (p[n+1] - p[n]) / dx + c1 * qm[n] / (0.5 * (p[n+1] + p[n])) * (-3 * qm[n] + 4 * qm[n-1] - qm[n-2]) / dx - c2 * qm[n] * abs(qm[n]) / (0.5 * (p[n+1] + p[n]))\n",
    "    ]\n",
    "    compose(ODESystem([eqs_continous; eqs_momentum; bd], t; name=name, defaults=initialValue), inlet, outlet)\n",
    "end"
   ]
  },
  {
   "cell_type": "code",
   "execution_count": 5,
   "metadata": {},
   "outputs": [
    {
     "name": "stderr",
     "output_type": "stream",
     "text": [
      "┌ Warning: inlet contains 1 flow variables, yet 2 regular (non-flow, non-stream, non-input, non-output) variables. This could lead to imbalanced model that are difficult to debug. Consider marking some of the regular variables as input/output variables.\n",
      "└ @ ModelingToolkit /Users/jerell/.julia/packages/ModelingToolkit/hBVcX/src/systems/connectors.jl:40\n",
      "┌ Warning: outlet contains 1 flow variables, yet 2 regular (non-flow, non-stream, non-input, non-output) variables. This could lead to imbalanced model that are difficult to debug. Consider marking some of the regular variables as input/output variables.\n",
      "└ @ ModelingToolkit /Users/jerell/.julia/packages/ModelingToolkit/hBVcX/src/systems/connectors.jl:40\n"
     ]
    },
    {
     "name": "stderr",
     "output_type": "stream",
     "text": [
      "┌ Warning: inlet contains 1 flow variables, yet 2 regular (non-flow, non-stream, non-input, non-output) variables. This could lead to imbalanced model that are difficult to debug. Consider marking some of the regular variables as input/output variables.\n",
      "└ @ ModelingToolkit /Users/jerell/.julia/packages/ModelingToolkit/hBVcX/src/systems/connectors.jl:40\n",
      "┌ Warning: outlet contains 1 flow variables, yet 2 regular (non-flow, non-stream, non-input, non-output) variables. This could lead to imbalanced model that are difficult to debug. Consider marking some of the regular variables as input/output variables.\n",
      "└ @ ModelingToolkit /Users/jerell/.julia/packages/ModelingToolkit/hBVcX/src/systems/connectors.jl:40\n"
     ]
    },
    {
     "data": {
      "text/latex": [
       "$$ \\begin{align}\n",
       "\\frac{\\mathrm{d}}{\\mathrm{d}t} p(t)_2 =& \\frac{c1 \\left(  - qm(t)_2 + qm(t)_1 \\right)}{dx} \\\\\n",
       "\\frac{\\mathrm{d}}{\\mathrm{d}t} p(t)_3 =& \\frac{c1 \\left(  - qm(t)_3 + qm(t)_2 \\right)}{dx} \\\\\n",
       "\\frac{\\mathrm{d}}{\\mathrm{d}t} p(t)_4 =& \\frac{c1 \\left(  - qm(t)_4 + qm(t)_3 \\right)}{dx} \\\\\n",
       "\\frac{\\mathrm{d}}{\\mathrm{d}t} p(t)_5 =& \\frac{c1 \\left(  - qm(t)_5 + qm(t)_4 \\right)}{dx} \\\\\n",
       "\\frac{\\mathrm{d}}{\\mathrm{d}t} p(t)_6 =& \\frac{c1 \\left(  - qm(t)_6 + qm(t)_5 \\right)}{dx} \\\\\n",
       "\\frac{\\mathrm{d}}{\\mathrm{d}t} p(t)_7 =& \\frac{c1 \\left(  - qm(t)_7 + qm(t)_6 \\right)}{dx} \\\\\n",
       "\\frac{\\mathrm{d}}{\\mathrm{d}t} p(t)_8 =& \\frac{c1 \\left(  - qm(t)_8 + qm(t)_7 \\right)}{dx} \\\\\n",
       "\\frac{\\mathrm{d}}{\\mathrm{d}t} p(t)_9 =& \\frac{c1 \\left(  - qm(t)_9 + qm(t)_8 \\right)}{dx} \\\\\n",
       "\\frac{\\mathrm{d}}{\\mathrm{d}t} p(t)_{1 0} =& \\frac{c1 \\left(  - qm(t)_{1 0} + qm(t)_9 \\right)}{dx} \\\\\n",
       "\\frac{\\mathrm{d}}{\\mathrm{d}t} p(t)_{1 1} =& \\frac{c1 \\left(  - qm(t)_{1 1} + qm(t)_{1 0} \\right)}{dx} \\\\\n",
       "\\frac{\\mathrm{d}}{\\mathrm{d}t} p(t)_{1 2} =& \\frac{c1 \\left(  - qm(t)_{1 2} + qm(t)_{1 1} \\right)}{dx} \\\\\n",
       "\\frac{\\mathrm{d}}{\\mathrm{d}t} p(t)_{1 3} =& \\frac{c1 \\left(  - qm(t)_{1 3} + qm(t)_{1 2} \\right)}{dx} \\\\\n",
       "\\frac{\\mathrm{d}}{\\mathrm{d}t} p(t)_{1 4} =& \\frac{c1 \\left(  - qm(t)_{1 4} + qm(t)_{1 3} \\right)}{dx} \\\\\n",
       "\\frac{\\mathrm{d}}{\\mathrm{d}t} p(t)_{1 5} =& \\frac{c1 \\left(  - qm(t)_{1 5} + qm(t)_{1 4} \\right)}{dx} \\\\\n",
       "\\frac{\\mathrm{d}}{\\mathrm{d}t} qm(t)_2 =& \\frac{\\left(  - A + \\frac{qm(t)_2^{2} c1}{0.25 \\left( p(t)_2 + p(t)_3 \\right)^{2}} \\right) \\left(  - p(t)_2 + p(t)_3 \\right)}{dx} + \\frac{c1 \\left(  - qm(t)_3 + qm(t)_1 \\right) qm(t)_2}{0.5 dx \\left( p(t)_2 + p(t)_3 \\right)} + \\frac{ - c2 \\left|qm(t)_2\\right| qm(t)_2}{0.5 \\left( p(t)_2 + p(t)_3 \\right)} \\\\\n",
       "\\frac{\\mathrm{d}}{\\mathrm{d}t} qm(t)_3 =& \\frac{\\left(  - A + \\frac{qm(t)_3^{2} c1}{0.25 \\left( p(t)_3 + p(t)_4 \\right)^{2}} \\right) \\left(  - p(t)_3 + p(t)_4 \\right)}{dx} + \\frac{c1 \\left(  - qm(t)_4 + qm(t)_2 \\right) qm(t)_3}{0.5 dx \\left( p(t)_3 + p(t)_4 \\right)} + \\frac{ - c2 \\left|qm(t)_3\\right| qm(t)_3}{0.5 \\left( p(t)_3 + p(t)_4 \\right)} \\\\\n",
       "\\frac{\\mathrm{d}}{\\mathrm{d}t} qm(t)_4 =& \\frac{\\left(  - A + \\frac{qm(t)_4^{2} c1}{0.25 \\left( p(t)_4 + p(t)_5 \\right)^{2}} \\right) \\left(  - p(t)_4 + p(t)_5 \\right)}{dx} + \\frac{c1 \\left(  - qm(t)_5 + qm(t)_3 \\right) qm(t)_4}{0.5 dx \\left( p(t)_4 + p(t)_5 \\right)} + \\frac{ - c2 \\left|qm(t)_4\\right| qm(t)_4}{0.5 \\left( p(t)_4 + p(t)_5 \\right)} \\\\\n",
       "\\frac{\\mathrm{d}}{\\mathrm{d}t} qm(t)_5 =& \\frac{\\left(  - A + \\frac{qm(t)_5^{2} c1}{0.25 \\left( p(t)_5 + p(t)_6 \\right)^{2}} \\right) \\left(  - p(t)_5 + p(t)_6 \\right)}{dx} + \\frac{c1 \\left(  - qm(t)_6 + qm(t)_4 \\right) qm(t)_5}{0.5 dx \\left( p(t)_5 + p(t)_6 \\right)} + \\frac{ - c2 \\left|qm(t)_5\\right| qm(t)_5}{0.5 \\left( p(t)_5 + p(t)_6 \\right)} \\\\\n",
       "\\frac{\\mathrm{d}}{\\mathrm{d}t} qm(t)_6 =& \\frac{\\left(  - A + \\frac{qm(t)_6^{2} c1}{0.25 \\left( p(t)_6 + p(t)_7 \\right)^{2}} \\right) \\left(  - p(t)_6 + p(t)_7 \\right)}{dx} + \\frac{c1 \\left(  - qm(t)_7 + qm(t)_5 \\right) qm(t)_6}{0.5 dx \\left( p(t)_6 + p(t)_7 \\right)} + \\frac{ - c2 \\left|qm(t)_6\\right| qm(t)_6}{0.5 \\left( p(t)_6 + p(t)_7 \\right)} \\\\\n",
       "\\frac{\\mathrm{d}}{\\mathrm{d}t} qm(t)_7 =& \\frac{\\left(  - A + \\frac{qm(t)_7^{2} c1}{0.25 \\left( p(t)_7 + p(t)_8 \\right)^{2}} \\right) \\left(  - p(t)_7 + p(t)_8 \\right)}{dx} + \\frac{c1 \\left(  - qm(t)_8 + qm(t)_6 \\right) qm(t)_7}{0.5 dx \\left( p(t)_7 + p(t)_8 \\right)} + \\frac{ - c2 \\left|qm(t)_7\\right| qm(t)_7}{0.5 \\left( p(t)_7 + p(t)_8 \\right)} \\\\\n",
       "\\frac{\\mathrm{d}}{\\mathrm{d}t} qm(t)_8 =& \\frac{\\left(  - A + \\frac{qm(t)_8^{2} c1}{0.25 \\left( p(t)_8 + p(t)_9 \\right)^{2}} \\right) \\left(  - p(t)_8 + p(t)_9 \\right)}{dx} + \\frac{c1 \\left(  - qm(t)_9 + qm(t)_7 \\right) qm(t)_8}{0.5 dx \\left( p(t)_8 + p(t)_9 \\right)} + \\frac{ - c2 \\left|qm(t)_8\\right| qm(t)_8}{0.5 \\left( p(t)_8 + p(t)_9 \\right)} \\\\\n",
       "\\frac{\\mathrm{d}}{\\mathrm{d}t} qm(t)_9 =& \\frac{\\left(  - A + \\frac{qm(t)_9^{2} c1}{0.25 \\left( p(t)_9 + p(t)_{1 0} \\right)^{2}} \\right) \\left(  - p(t)_9 + p(t)_{1 0} \\right)}{dx} + \\frac{c1 \\left(  - qm(t)_{1 0} + qm(t)_8 \\right) qm(t)_9}{0.5 dx \\left( p(t)_9 + p(t)_{1 0} \\right)} + \\frac{ - c2 \\left|qm(t)_9\\right| qm(t)_9}{0.5 \\left( p(t)_9 + p(t)_{1 0} \\right)} \\\\\n",
       "\\frac{\\mathrm{d}}{\\mathrm{d}t} qm(t)_{1 0} =& \\frac{\\left(  - A + \\frac{qm(t)_{1 0}^{2} c1}{0.25 \\left( p(t)_{1 0} + p(t)_{1 1} \\right)^{2}} \\right) \\left(  - p(t)_{1 0} + p(t)_{1 1} \\right)}{dx} + \\frac{c1 \\left(  - qm(t)_{1 1} + qm(t)_9 \\right) qm(t)_{1 0}}{0.5 dx \\left( p(t)_{1 0} + p(t)_{1 1} \\right)} + \\frac{ - c2 \\left|qm(t)_{1 0}\\right| qm(t)_{1 0}}{0.5 \\left( p(t)_{1 0} + p(t)_{1 1} \\right)} \\\\\n",
       "\\frac{\\mathrm{d}}{\\mathrm{d}t} qm(t)_{1 1} =& \\frac{\\left(  - A + \\frac{qm(t)_{1 1}^{2} c1}{0.25 \\left( p(t)_{1 1} + p(t)_{1 2} \\right)^{2}} \\right) \\left(  - p(t)_{1 1} + p(t)_{1 2} \\right)}{dx} + \\frac{c1 \\left(  - qm(t)_{1 2} + qm(t)_{1 0} \\right) qm(t)_{1 1}}{0.5 dx \\left( p(t)_{1 1} + p(t)_{1 2} \\right)} + \\frac{ - c2 \\left|qm(t)_{1 1}\\right| qm(t)_{1 1}}{0.5 \\left( p(t)_{1 1} + p(t)_{1 2} \\right)} \\\\\n",
       "\\frac{\\mathrm{d}}{\\mathrm{d}t} qm(t)_{1 2} =& \\frac{\\left(  - A + \\frac{qm(t)_{1 2}^{2} c1}{0.25 \\left( p(t)_{1 2} + p(t)_{1 3} \\right)^{2}} \\right) \\left(  - p(t)_{1 2} + p(t)_{1 3} \\right)}{dx} + \\frac{c1 \\left(  - qm(t)_{1 3} + qm(t)_{1 1} \\right) qm(t)_{1 2}}{0.5 dx \\left( p(t)_{1 2} + p(t)_{1 3} \\right)} + \\frac{ - c2 \\left|qm(t)_{1 2}\\right| qm(t)_{1 2}}{0.5 \\left( p(t)_{1 2} + p(t)_{1 3} \\right)} \\\\\n",
       "\\frac{\\mathrm{d}}{\\mathrm{d}t} qm(t)_{1 3} =& \\frac{\\left(  - A + \\frac{qm(t)_{1 3}^{2} c1}{0.25 \\left( p(t)_{1 3} + p(t)_{1 4} \\right)^{2}} \\right) \\left(  - p(t)_{1 3} + p(t)_{1 4} \\right)}{dx} + \\frac{c1 \\left(  - qm(t)_{1 4} + qm(t)_{1 2} \\right) qm(t)_{1 3}}{0.5 dx \\left( p(t)_{1 3} + p(t)_{1 4} \\right)} + \\frac{ - c2 \\left|qm(t)_{1 3}\\right| qm(t)_{1 3}}{0.5 \\left( p(t)_{1 3} + p(t)_{1 4} \\right)} \\\\\n",
       "\\frac{\\mathrm{d}}{\\mathrm{d}t} qm(t)_{1 4} =& \\frac{\\left(  - A + \\frac{qm(t)_{1 4}^{2} c1}{0.25 \\left( p(t)_{1 4} + p(t)_{1 5} \\right)^{2}} \\right) \\left(  - p(t)_{1 4} + p(t)_{1 5} \\right)}{dx} + \\frac{c1 \\left(  - qm(t)_{1 5} + qm(t)_{1 3} \\right) qm(t)_{1 4}}{0.5 dx \\left( p(t)_{1 4} + p(t)_{1 5} \\right)} + \\frac{ - c2 \\left|qm(t)_{1 4}\\right| qm(t)_{1 4}}{0.5 \\left( p(t)_{1 4} + p(t)_{1 5} \\right)} \\\\\n",
       "\\frac{\\mathrm{d}}{\\mathrm{d}t} qm(t)_1 =& \\frac{\\left(  - A + \\frac{qm(t)_1^{2} c1}{0.25 \\left( p(t)_1 + p(t)_2 \\right)^{2}} \\right) \\left(  - p(t)_1 + p(t)_2 \\right)}{dx} + \\frac{c1 \\left( 3 qm(t)_1 - 4 qm(t)_2 + qm(t)_3 \\right) qm(t)_1}{0.5 dx \\left( p(t)_1 + p(t)_2 \\right)} + \\frac{ - c2 \\left|qm(t)_1\\right| qm(t)_1}{0.5 \\left( p(t)_1 + p(t)_2 \\right)} \\\\\n",
       "\\frac{\\mathrm{d}}{\\mathrm{d}t} qm(t)_{1 5} =& \\frac{\\left(  - A + \\frac{qm(t)_{1 5}^{2} c1}{0.25 \\left( p(t)_{1 5} + p(t)_{1 6} \\right)^{2}} \\right) \\left(  - p(t)_{1 5} + p(t)_{1 6} \\right)}{dx} + \\frac{c1 \\left(  - qm(t)_{1 3} + 4 qm(t)_{1 4} - 3 qm(t)_{1 5} \\right) qm(t)_{1 5}}{0.5 dx \\left( p(t)_{1 5} + p(t)_{1 6} \\right)} + \\frac{ - c2 \\left|qm(t)_{1 5}\\right| qm(t)_{1 5}}{0.5 \\left( p(t)_{1 5} + p(t)_{1 6} \\right)} \\\\\n",
       "p(t)_1 =& inlet_{+}p\\left( t \\right) \\\\\n",
       "p(t)_{1 6} =& outlet_{+}p\\left( t \\right) \\\\\n",
       "qm(t)_{1 5} =&  - outlet_{+}qm\\left( t \\right) \\\\\n",
       "qm(t)_1 =& inlet_{+}qm\\left( t \\right) \\\\\n",
       "0 =& \\mathrm{stateEquation}\\left( inlet_{+}p\\left( t \\right), inlet_+\\rho\\left( t \\right), inlet_{+}T\\left( t \\right) \\right) \\\\\n",
       "inlet_+\\mu\\left( t \\right) =& 1.819 \\cdot 10^{-5} \\\\\n",
       "inlet_{+}qv\\left( t \\right) =& \\frac{inlet_{+}qm\\left( t \\right)}{inlet_+\\rho\\left( t \\right)} \\\\\n",
       "0 =& \\mathrm{stateEquation}\\left( outlet_{+}p\\left( t \\right), outlet_+\\rho\\left( t \\right), outlet_{+}T\\left( t \\right) \\right) \\\\\n",
       "outlet_+\\mu\\left( t \\right) =& 1.819 \\cdot 10^{-5} \\\\\n",
       "outlet_{+}qv\\left( t \\right) =& \\frac{outlet_{+}qm\\left( t \\right)}{outlet_+\\rho\\left( t \\right)}\n",
       "\\end{align}\n",
       " $$"
      ],
      "text/plain": [
       "\u001b[0m\u001b[1mModel transPipe2 with 39 \u001b[22m\u001b[0m\u001b[1m(\u001b[22m\u001b[35m\u001b[1m41\u001b[22m\u001b[39m\u001b[0m\u001b[1m) \u001b[22m\u001b[0m\u001b[1mequations\u001b[22m\n",
       "\u001b[0m\u001b[1mStates (43):\u001b[22m\n",
       "  (p(t))[2] [defaults to 1.0e6]\n",
       "  (p(t))[3] [defaults to 1.0e6]\n",
       "  (p(t))[4] [defaults to 1.0e6]\n",
       "  (p(t))[5] [defaults to 1.0e6]\n",
       "⋮\n",
       "\u001b[0m\u001b[1mParameters (4):\u001b[22m\n",
       "  dx [defaults to 1.33333]\n",
       "  c1 [defaults to 6.85425e5]\n",
       "  c2 [defaults to 42839.0]\n",
       "  A [defaults to 0.125664]"
      ]
     },
     "metadata": {},
     "output_type": "display_data"
    }
   ],
   "source": [
    "@named transPipe1 = TransitionPipe3(n=n, D=D, L=L, T=T, p0=p0, qm0=qm0, f=f)\n",
    "@named transPipe2 = TransitionPipe3(n=n, D=D, L=L, T=T, p0=p0, qm0=qm0, f=f)"
   ]
  },
  {
   "cell_type": "code",
   "execution_count": 9,
   "metadata": {},
   "outputs": [
    {
     "data": {
      "text/latex": [
       "$$ \\begin{equation}\n",
       "\\left[\n",
       "\\begin{array}{c}\n",
       "\\mathrm{connect}\\left( inletSource_{+}source, transPipe1_{+}inlet \\right) \\\\\n",
       "\\mathrm{connect}\\left( transPipe1_{+}outlet, transPipe2_{+}inlet \\right) \\\\\n",
       "\\mathrm{connect}\\left( transPipe2_{+}outlet, outletSource_{+}source \\right) \\\\\n",
       "transPipe1_{+}outlet_{+}qv\\left( t \\right) = transPipe2_{+}inlet_{+}qv\\left( t \\right) \\\\\n",
       "\\end{array}\n",
       "\\right]\n",
       "\\end{equation}\n",
       " $$"
      ],
      "text/plain": [
       "4-element Vector{Equation}:\n",
       " connect(inletSource.source, transPipe1.inlet)\n",
       " connect(transPipe1.outlet, transPipe2.inlet)\n",
       " connect(transPipe2.outlet, outletSource.source)\n",
       " transPipe1₊outlet₊qv(t) ~ transPipe2₊inlet₊qv(t)"
      ]
     },
     "metadata": {},
     "output_type": "display_data"
    }
   ],
   "source": [
    "eqs = [\n",
    "    connect(inletSource.source, transPipe1.inlet),\n",
    "    connect(transPipe1.outlet, transPipe2.inlet),\n",
    "    connect(transPipe2.outlet, outletSource.source),\n",
    "    # connect(transPipe1.outlet, outletSource.source)\n",
    "\n",
    "    # transPipe1.outlet.p ~ transPipe2.inlet.p,\n",
    "    # transPipe1.outlet.qm ~ transPipe2.inlet.qm,\n",
    "    # transPipe1.outlet.T ~ transPipe2.inlet.T,\n",
    "    transPipe1.outlet.qv ~ transPipe2.inlet.qv,\n",
    "]"
   ]
  },
  {
   "cell_type": "code",
   "execution_count": 10,
   "metadata": {},
   "outputs": [
    {
     "data": {
      "text/plain": [
       "retcode: InitialFailure\n",
       "Interpolation: specialized 3rd order \"free\" stiffness-aware interpolation\n",
       "t: 1-element Vector{Float64}:\n",
       " 0.0\n",
       "u: 1-element Vector{Vector{Float64}}:\n",
       " [1.0e6, 1.0e6, 1.0e6, 1.0e6, 1.0e6, 1.0e6, 1.0e6, 1.0e6, 1.0e6, 1.0e6  …  10.0, 10.0, 1.160995205089803, 4.643980820359212, 1.160995205089803, 857.2700728699768, 999999.998434483, 857.2700728699768, 4.0628802053328865, 4.643980820359212]"
      ]
     },
     "metadata": {},
     "output_type": "display_data"
    }
   ],
   "source": [
    "@named eq_model = ODESystem(eqs, t)\n",
    "@named model = compose(\n",
    "    eq_model,\n",
    "    inletSource,\n",
    "    outletSource,\n",
    "    transPipe1,\n",
    "    transPipe2\n",
    ")\n",
    "\n",
    "sys = structural_simplify(model)\n",
    "prob = ODEProblem(sys, [], (0, 3))\n",
    "sol = solve(prob, Rodas4())"
   ]
  },
  {
   "cell_type": "code",
   "execution_count": 11,
   "metadata": {},
   "outputs": [],
   "source": []
  }
 ],
 "metadata": {
  "kernelspec": {
   "display_name": "Julia 1.9.3",
   "language": "julia",
   "name": "julia-1.9"
  },
  "language_info": {
   "file_extension": ".jl",
   "mimetype": "application/julia",
   "name": "julia",
   "version": "1.9.3"
  },
  "orig_nbformat": 4
 },
 "nbformat": 4,
 "nbformat_minor": 2
}
